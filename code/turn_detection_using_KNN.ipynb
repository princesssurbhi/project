{
 "cells": [
  {
   "cell_type": "code",
   "execution_count": 4,
   "metadata": {},
   "outputs": [],
   "source": [
    "import numpy as np\n",
    "import pandas as pd\n",
    "import matplotlib.pyplot as plt\n",
    "import seaborn as sns\n",
    "%matplotlib inline"
   ]
  },
  {
   "cell_type": "code",
   "execution_count": 5,
   "metadata": {},
   "outputs": [],
   "source": [
    "data_train = pd.read_excel('/home/surbhi/deadline_project/sensor_data_collection/oneplus3/training_set_for_turn_detection.xlsx')"
   ]
  },
  {
   "cell_type": "code",
   "execution_count": 6,
   "metadata": {},
   "outputs": [],
   "source": [
    "data_test = pd.read_csv('/home/surbhi/deadline_project/sensor_data_collection/oneplus3/test.csv')"
   ]
  },
  {
   "cell_type": "code",
   "execution_count": 7,
   "metadata": {},
   "outputs": [],
   "source": [
    "y_test = pd.read_excel('/home/surbhi/deadline_project/sensor_data_collection/oneplus3/y_test.xlsx')"
   ]
  },
  {
   "cell_type": "code",
   "execution_count": 8,
   "metadata": {},
   "outputs": [
    {
     "data": {
      "text/html": [
       "<div>\n",
       "<style scoped>\n",
       "    .dataframe tbody tr th:only-of-type {\n",
       "        vertical-align: middle;\n",
       "    }\n",
       "\n",
       "    .dataframe tbody tr th {\n",
       "        vertical-align: top;\n",
       "    }\n",
       "\n",
       "    .dataframe thead th {\n",
       "        text-align: right;\n",
       "    }\n",
       "</style>\n",
       "<table border=\"1\" class=\"dataframe\">\n",
       "  <thead>\n",
       "    <tr style=\"text-align: right;\">\n",
       "      <th></th>\n",
       "      <th>std</th>\n",
       "      <th>interquartilerange</th>\n",
       "      <th>range</th>\n",
       "      <th>variance</th>\n",
       "      <th>feature</th>\n",
       "    </tr>\n",
       "  </thead>\n",
       "  <tbody>\n",
       "    <tr>\n",
       "      <th>0</th>\n",
       "      <td>1.893093</td>\n",
       "      <td>0.744145</td>\n",
       "      <td>6.10639</td>\n",
       "      <td>3.583801</td>\n",
       "      <td>0</td>\n",
       "    </tr>\n",
       "    <tr>\n",
       "      <th>1</th>\n",
       "      <td>12.137999</td>\n",
       "      <td>11.900842</td>\n",
       "      <td>45.21478</td>\n",
       "      <td>147.331026</td>\n",
       "      <td>1</td>\n",
       "    </tr>\n",
       "    <tr>\n",
       "      <th>2</th>\n",
       "      <td>3.861983</td>\n",
       "      <td>2.967290</td>\n",
       "      <td>13.48541</td>\n",
       "      <td>14.914914</td>\n",
       "      <td>0</td>\n",
       "    </tr>\n",
       "    <tr>\n",
       "      <th>3</th>\n",
       "      <td>2.806293</td>\n",
       "      <td>1.340335</td>\n",
       "      <td>10.49092</td>\n",
       "      <td>7.875282</td>\n",
       "      <td>0</td>\n",
       "    </tr>\n",
       "    <tr>\n",
       "      <th>4</th>\n",
       "      <td>4.436192</td>\n",
       "      <td>7.716569</td>\n",
       "      <td>11.91696</td>\n",
       "      <td>19.679798</td>\n",
       "      <td>0</td>\n",
       "    </tr>\n",
       "  </tbody>\n",
       "</table>\n",
       "</div>"
      ],
      "text/plain": [
       "         std  interquartilerange     range    variance  feature\n",
       "0   1.893093            0.744145   6.10639    3.583801        0\n",
       "1  12.137999           11.900842  45.21478  147.331026        1\n",
       "2   3.861983            2.967290  13.48541   14.914914        0\n",
       "3   2.806293            1.340335  10.49092    7.875282        0\n",
       "4   4.436192            7.716569  11.91696   19.679798        0"
      ]
     },
     "execution_count": 8,
     "metadata": {},
     "output_type": "execute_result"
    }
   ],
   "source": [
    "data_train.head()"
   ]
  },
  {
   "cell_type": "code",
   "execution_count": 9,
   "metadata": {},
   "outputs": [
    {
     "data": {
      "text/html": [
       "<div>\n",
       "<style scoped>\n",
       "    .dataframe tbody tr th:only-of-type {\n",
       "        vertical-align: middle;\n",
       "    }\n",
       "\n",
       "    .dataframe tbody tr th {\n",
       "        vertical-align: top;\n",
       "    }\n",
       "\n",
       "    .dataframe thead th {\n",
       "        text-align: right;\n",
       "    }\n",
       "</style>\n",
       "<table border=\"1\" class=\"dataframe\">\n",
       "  <thead>\n",
       "    <tr style=\"text-align: right;\">\n",
       "      <th></th>\n",
       "      <th>time_stamp</th>\n",
       "      <th>ori</th>\n",
       "      <th>Unnamed: 2</th>\n",
       "      <th>Unnamed: 3</th>\n",
       "    </tr>\n",
       "  </thead>\n",
       "  <tbody>\n",
       "    <tr>\n",
       "      <th>0</th>\n",
       "      <td>1582892149513</td>\n",
       "      <td>183.32074</td>\n",
       "      <td>-23.296076</td>\n",
       "      <td>-8.208767</td>\n",
       "    </tr>\n",
       "    <tr>\n",
       "      <th>1</th>\n",
       "      <td>1582892149530</td>\n",
       "      <td>183.43580</td>\n",
       "      <td>-23.217299</td>\n",
       "      <td>-8.004543</td>\n",
       "    </tr>\n",
       "    <tr>\n",
       "      <th>2</th>\n",
       "      <td>1582892149550</td>\n",
       "      <td>183.55615</td>\n",
       "      <td>-22.962630</td>\n",
       "      <td>-7.778291</td>\n",
       "    </tr>\n",
       "    <tr>\n",
       "      <th>3</th>\n",
       "      <td>1582892149570</td>\n",
       "      <td>183.67781</td>\n",
       "      <td>-22.410380</td>\n",
       "      <td>-7.610994</td>\n",
       "    </tr>\n",
       "    <tr>\n",
       "      <th>4</th>\n",
       "      <td>1582892149588</td>\n",
       "      <td>183.78986</td>\n",
       "      <td>-22.059351</td>\n",
       "      <td>-7.418176</td>\n",
       "    </tr>\n",
       "  </tbody>\n",
       "</table>\n",
       "</div>"
      ],
      "text/plain": [
       "      time_stamp        ori  Unnamed: 2  Unnamed: 3\n",
       "0  1582892149513  183.32074  -23.296076   -8.208767\n",
       "1  1582892149530  183.43580  -23.217299   -8.004543\n",
       "2  1582892149550  183.55615  -22.962630   -7.778291\n",
       "3  1582892149570  183.67781  -22.410380   -7.610994\n",
       "4  1582892149588  183.78986  -22.059351   -7.418176"
      ]
     },
     "execution_count": 9,
     "metadata": {},
     "output_type": "execute_result"
    }
   ],
   "source": [
    "data_test.head()"
   ]
  },
  {
   "cell_type": "code",
   "execution_count": 10,
   "metadata": {},
   "outputs": [],
   "source": [
    "x_train = data_train.drop('feature', axis=1)"
   ]
  },
  {
   "cell_type": "code",
   "execution_count": 11,
   "metadata": {},
   "outputs": [
    {
     "data": {
      "text/html": [
       "<div>\n",
       "<style scoped>\n",
       "    .dataframe tbody tr th:only-of-type {\n",
       "        vertical-align: middle;\n",
       "    }\n",
       "\n",
       "    .dataframe tbody tr th {\n",
       "        vertical-align: top;\n",
       "    }\n",
       "\n",
       "    .dataframe thead th {\n",
       "        text-align: right;\n",
       "    }\n",
       "</style>\n",
       "<table border=\"1\" class=\"dataframe\">\n",
       "  <thead>\n",
       "    <tr style=\"text-align: right;\">\n",
       "      <th></th>\n",
       "      <th>std</th>\n",
       "      <th>interquartilerange</th>\n",
       "      <th>range</th>\n",
       "      <th>variance</th>\n",
       "    </tr>\n",
       "  </thead>\n",
       "  <tbody>\n",
       "    <tr>\n",
       "      <th>0</th>\n",
       "      <td>1.893093</td>\n",
       "      <td>0.744145</td>\n",
       "      <td>6.10639</td>\n",
       "      <td>3.583801</td>\n",
       "    </tr>\n",
       "    <tr>\n",
       "      <th>1</th>\n",
       "      <td>12.137999</td>\n",
       "      <td>11.900842</td>\n",
       "      <td>45.21478</td>\n",
       "      <td>147.331026</td>\n",
       "    </tr>\n",
       "    <tr>\n",
       "      <th>2</th>\n",
       "      <td>3.861983</td>\n",
       "      <td>2.967290</td>\n",
       "      <td>13.48541</td>\n",
       "      <td>14.914914</td>\n",
       "    </tr>\n",
       "    <tr>\n",
       "      <th>3</th>\n",
       "      <td>2.806293</td>\n",
       "      <td>1.340335</td>\n",
       "      <td>10.49092</td>\n",
       "      <td>7.875282</td>\n",
       "    </tr>\n",
       "    <tr>\n",
       "      <th>4</th>\n",
       "      <td>4.436192</td>\n",
       "      <td>7.716569</td>\n",
       "      <td>11.91696</td>\n",
       "      <td>19.679798</td>\n",
       "    </tr>\n",
       "    <tr>\n",
       "      <th>...</th>\n",
       "      <td>...</td>\n",
       "      <td>...</td>\n",
       "      <td>...</td>\n",
       "      <td>...</td>\n",
       "    </tr>\n",
       "    <tr>\n",
       "      <th>74</th>\n",
       "      <td>4.342830</td>\n",
       "      <td>3.536580</td>\n",
       "      <td>11.63962</td>\n",
       "      <td>18.860171</td>\n",
       "    </tr>\n",
       "    <tr>\n",
       "      <th>75</th>\n",
       "      <td>8.206939</td>\n",
       "      <td>3.040640</td>\n",
       "      <td>26.18744</td>\n",
       "      <td>67.353840</td>\n",
       "    </tr>\n",
       "    <tr>\n",
       "      <th>76</th>\n",
       "      <td>0.404348</td>\n",
       "      <td>0.373337</td>\n",
       "      <td>1.47731</td>\n",
       "      <td>0.163497</td>\n",
       "    </tr>\n",
       "    <tr>\n",
       "      <th>77</th>\n",
       "      <td>1.453080</td>\n",
       "      <td>1.583342</td>\n",
       "      <td>4.87724</td>\n",
       "      <td>2.111441</td>\n",
       "    </tr>\n",
       "    <tr>\n",
       "      <th>78</th>\n",
       "      <td>0.853801</td>\n",
       "      <td>0.680217</td>\n",
       "      <td>2.70630</td>\n",
       "      <td>0.728977</td>\n",
       "    </tr>\n",
       "  </tbody>\n",
       "</table>\n",
       "<p>79 rows × 4 columns</p>\n",
       "</div>"
      ],
      "text/plain": [
       "          std  interquartilerange     range    variance\n",
       "0    1.893093            0.744145   6.10639    3.583801\n",
       "1   12.137999           11.900842  45.21478  147.331026\n",
       "2    3.861983            2.967290  13.48541   14.914914\n",
       "3    2.806293            1.340335  10.49092    7.875282\n",
       "4    4.436192            7.716569  11.91696   19.679798\n",
       "..        ...                 ...       ...         ...\n",
       "74   4.342830            3.536580  11.63962   18.860171\n",
       "75   8.206939            3.040640  26.18744   67.353840\n",
       "76   0.404348            0.373337   1.47731    0.163497\n",
       "77   1.453080            1.583342   4.87724    2.111441\n",
       "78   0.853801            0.680217   2.70630    0.728977\n",
       "\n",
       "[79 rows x 4 columns]"
      ]
     },
     "execution_count": 11,
     "metadata": {},
     "output_type": "execute_result"
    }
   ],
   "source": [
    "x_train"
   ]
  },
  {
   "cell_type": "code",
   "execution_count": 12,
   "metadata": {},
   "outputs": [],
   "source": [
    "y_train = data_train['feature']"
   ]
  },
  {
   "cell_type": "code",
   "execution_count": 13,
   "metadata": {},
   "outputs": [
    {
     "data": {
      "text/plain": [
       "0     0\n",
       "1     1\n",
       "2     0\n",
       "3     0\n",
       "4     0\n",
       "     ..\n",
       "74    0\n",
       "75    1\n",
       "76    0\n",
       "77    0\n",
       "78    0\n",
       "Name: feature, Length: 79, dtype: int64"
      ]
     },
     "execution_count": 13,
     "metadata": {},
     "output_type": "execute_result"
    }
   ],
   "source": [
    "y_train"
   ]
  },
  {
   "cell_type": "code",
   "execution_count": 14,
   "metadata": {},
   "outputs": [],
   "source": [
    "y_test = y_test['feature']"
   ]
  },
  {
   "cell_type": "code",
   "execution_count": 15,
   "metadata": {},
   "outputs": [
    {
     "data": {
      "text/plain": [
       "0     0\n",
       "1     0\n",
       "2     0\n",
       "3     0\n",
       "4     0\n",
       "5     0\n",
       "6     0\n",
       "7     1\n",
       "8     0\n",
       "9     1\n",
       "10    0\n",
       "11    0\n",
       "12    0\n",
       "13    0\n",
       "14    0\n",
       "15    0\n",
       "16    0\n",
       "17    1\n",
       "18    1\n",
       "19    0\n",
       "20    0\n",
       "21    0\n",
       "22    0\n",
       "23    0\n",
       "24    0\n",
       "25    0\n",
       "26    0\n",
       "27    0\n",
       "28    0\n",
       "29    0\n",
       "30    0\n",
       "31    0\n",
       "32    0\n",
       "Name: feature, dtype: int64"
      ]
     },
     "execution_count": 15,
     "metadata": {},
     "output_type": "execute_result"
    }
   ],
   "source": [
    "y_test"
   ]
  },
  {
   "cell_type": "code",
   "execution_count": 16,
   "metadata": {},
   "outputs": [],
   "source": [
    "from sklearn.preprocessing import StandardScaler"
   ]
  },
  {
   "cell_type": "code",
   "execution_count": 17,
   "metadata": {},
   "outputs": [],
   "source": [
    "scaler = StandardScaler()"
   ]
  },
  {
   "cell_type": "code",
   "execution_count": 18,
   "metadata": {},
   "outputs": [
    {
     "data": {
      "text/plain": [
       "StandardScaler(copy=True, with_mean=True, with_std=True)"
      ]
     },
     "execution_count": 18,
     "metadata": {},
     "output_type": "execute_result"
    }
   ],
   "source": [
    "scaler.fit(x_train)"
   ]
  },
  {
   "cell_type": "code",
   "execution_count": 19,
   "metadata": {},
   "outputs": [],
   "source": [
    "scaled_features = scaler.transform(x_train)"
   ]
  },
  {
   "cell_type": "code",
   "execution_count": 20,
   "metadata": {},
   "outputs": [],
   "source": [
    "#scaled_features"
   ]
  },
  {
   "cell_type": "code",
   "execution_count": 21,
   "metadata": {},
   "outputs": [
    {
     "data": {
      "text/html": [
       "<div>\n",
       "<style scoped>\n",
       "    .dataframe tbody tr th:only-of-type {\n",
       "        vertical-align: middle;\n",
       "    }\n",
       "\n",
       "    .dataframe tbody tr th {\n",
       "        vertical-align: top;\n",
       "    }\n",
       "\n",
       "    .dataframe thead th {\n",
       "        text-align: right;\n",
       "    }\n",
       "</style>\n",
       "<table border=\"1\" class=\"dataframe\">\n",
       "  <thead>\n",
       "    <tr style=\"text-align: right;\">\n",
       "      <th></th>\n",
       "      <th>std</th>\n",
       "      <th>interquartilerange</th>\n",
       "      <th>range</th>\n",
       "      <th>variance</th>\n",
       "    </tr>\n",
       "  </thead>\n",
       "  <tbody>\n",
       "    <tr>\n",
       "      <th>0</th>\n",
       "      <td>-0.706071</td>\n",
       "      <td>-0.378962</td>\n",
       "      <td>-0.705813</td>\n",
       "      <td>-0.615546</td>\n",
       "    </tr>\n",
       "    <tr>\n",
       "      <th>1</th>\n",
       "      <td>1.440898</td>\n",
       "      <td>0.384420</td>\n",
       "      <td>1.844643</td>\n",
       "      <td>1.272605</td>\n",
       "    </tr>\n",
       "    <tr>\n",
       "      <th>2</th>\n",
       "      <td>-0.293461</td>\n",
       "      <td>-0.226847</td>\n",
       "      <td>-0.224590</td>\n",
       "      <td>-0.466709</td>\n",
       "    </tr>\n",
       "    <tr>\n",
       "      <th>3</th>\n",
       "      <td>-0.514696</td>\n",
       "      <td>-0.338169</td>\n",
       "      <td>-0.419876</td>\n",
       "      <td>-0.559176</td>\n",
       "    </tr>\n",
       "    <tr>\n",
       "      <th>4</th>\n",
       "      <td>-0.173127</td>\n",
       "      <td>0.098117</td>\n",
       "      <td>-0.326876</td>\n",
       "      <td>-0.404121</td>\n",
       "    </tr>\n",
       "  </tbody>\n",
       "</table>\n",
       "</div>"
      ],
      "text/plain": [
       "        std  interquartilerange     range  variance\n",
       "0 -0.706071           -0.378962 -0.705813 -0.615546\n",
       "1  1.440898            0.384420  1.844643  1.272605\n",
       "2 -0.293461           -0.226847 -0.224590 -0.466709\n",
       "3 -0.514696           -0.338169 -0.419876 -0.559176\n",
       "4 -0.173127            0.098117 -0.326876 -0.404121"
      ]
     },
     "execution_count": 21,
     "metadata": {},
     "output_type": "execute_result"
    }
   ],
   "source": [
    "x_train_df = pd.DataFrame(scaled_features,columns=x_train.columns)\n",
    "x_train_df.head()"
   ]
  },
  {
   "cell_type": "code",
   "execution_count": 22,
   "metadata": {},
   "outputs": [],
   "source": [
    "# Dividing the data into windows\n",
    "time_stamp_windows = []\n",
    "\n",
    "last = len(data_test) // 100\n",
    "\n",
    "for i in range(last):\n",
    "    time_stamp_windows.append(data_test.iloc[i*100:i*100+100]['time_stamp'])\n",
    "    \n",
    "time_stamp_windows.append(data_test.iloc[last*100:-1]['time_stamp'])"
   ]
  },
  {
   "cell_type": "code",
   "execution_count": 23,
   "metadata": {},
   "outputs": [],
   "source": [
    "# Dividing the data into windows\n",
    "windows = []\n",
    "\n",
    "last = len(data_test) // 100\n",
    "\n",
    "for i in range(last):\n",
    "    windows.append(data_test.iloc[i*100:i*100+100]['ori'])\n",
    "    \n",
    "windows.append(data_test.iloc[last*100:-1]['ori'])"
   ]
  },
  {
   "cell_type": "code",
   "execution_count": 24,
   "metadata": {},
   "outputs": [],
   "source": [
    "#windows[0]"
   ]
  },
  {
   "cell_type": "code",
   "execution_count": 25,
   "metadata": {},
   "outputs": [],
   "source": [
    "firstquart = []\n",
    "secondquart = []\n",
    "thirdquart = []\n",
    "for var in windows: \n",
    "    var1quart = var.quantile(.25)\n",
    "    var2quart = var.quantile(.5)\n",
    "    var3quart = var.quantile(.75)\n",
    "    firstquart.append(var1quart.transpose())\n",
    "    secondquart.append(var2quart.transpose())\n",
    "    thirdquart.append(var2quart.transpose())\n",
    "    "
   ]
  },
  {
   "cell_type": "code",
   "execution_count": 26,
   "metadata": {},
   "outputs": [],
   "source": [
    "i=1\n",
    "for x in windows:\n",
    "    y=x\n",
    "    y.to_excel('/home/surbhi/deadline_project/sensor_data_collection/oneplus3/window/window'+str(i)+'.xlsx')\n",
    "    y = x.describe()\n",
    "    y['interquartilerange'] = thirdquart[i-1] - firstquart[i-1]\n",
    "    y['range'] = y['max'] - y['min']\n",
    "    y['variance'] = y['std']**2\n",
    "    y.to_excel('/home/surbhi/deadline_project/sensor_data_collection/oneplus3/feature/feature'+str(i)+'.xlsx')\n",
    "    i+=1\n"
   ]
  },
  {
   "cell_type": "code",
   "execution_count": 27,
   "metadata": {},
   "outputs": [],
   "source": [
    "#y"
   ]
  },
  {
   "cell_type": "code",
   "execution_count": null,
   "metadata": {},
   "outputs": [],
   "source": []
  },
  {
   "cell_type": "code",
   "execution_count": 28,
   "metadata": {},
   "outputs": [],
   "source": [
    "x_test = pd.DataFrame()\n",
    "for i in range(1,len(windows)+1):\n",
    "    df = pd.read_excel('/home/surbhi/deadline_project/sensor_data_collection/oneplus3/feature/feature'+str(i)+'.xlsx')\n",
    "    dfff = pd.DataFrame(pd.Series({'std':df.loc[2,'ori'],'interquartilerange':df.loc[8,'ori'],'range':df.loc[9,'ori'], 'variance':df.loc[10,'ori']}))\n",
    "    new_df=dfff.transpose()\n",
    "    x_test = x_test.append(new_df.iloc[0])\n",
    "x_test = x_test[['std','interquartilerange','range','variance']]\n",
    "\n",
    "    "
   ]
  },
  {
   "cell_type": "code",
   "execution_count": 29,
   "metadata": {},
   "outputs": [
    {
     "data": {
      "text/html": [
       "<div>\n",
       "<style scoped>\n",
       "    .dataframe tbody tr th:only-of-type {\n",
       "        vertical-align: middle;\n",
       "    }\n",
       "\n",
       "    .dataframe tbody tr th {\n",
       "        vertical-align: top;\n",
       "    }\n",
       "\n",
       "    .dataframe thead th {\n",
       "        text-align: right;\n",
       "    }\n",
       "</style>\n",
       "<table border=\"1\" class=\"dataframe\">\n",
       "  <thead>\n",
       "    <tr style=\"text-align: right;\">\n",
       "      <th></th>\n",
       "      <th>std</th>\n",
       "      <th>interquartilerange</th>\n",
       "      <th>range</th>\n",
       "      <th>variance</th>\n",
       "    </tr>\n",
       "  </thead>\n",
       "  <tbody>\n",
       "    <tr>\n",
       "      <th>0</th>\n",
       "      <td>0.255330</td>\n",
       "      <td>0.229228</td>\n",
       "      <td>1.35521</td>\n",
       "      <td>0.065194</td>\n",
       "    </tr>\n",
       "    <tr>\n",
       "      <th>0</th>\n",
       "      <td>5.751575</td>\n",
       "      <td>1.823737</td>\n",
       "      <td>22.84415</td>\n",
       "      <td>33.080610</td>\n",
       "    </tr>\n",
       "    <tr>\n",
       "      <th>0</th>\n",
       "      <td>13.717925</td>\n",
       "      <td>16.989567</td>\n",
       "      <td>34.84700</td>\n",
       "      <td>188.181454</td>\n",
       "    </tr>\n",
       "    <tr>\n",
       "      <th>0</th>\n",
       "      <td>1.188703</td>\n",
       "      <td>0.956727</td>\n",
       "      <td>3.89319</td>\n",
       "      <td>1.413014</td>\n",
       "    </tr>\n",
       "    <tr>\n",
       "      <th>0</th>\n",
       "      <td>1.893093</td>\n",
       "      <td>0.744145</td>\n",
       "      <td>6.10639</td>\n",
       "      <td>3.583801</td>\n",
       "    </tr>\n",
       "    <tr>\n",
       "      <th>0</th>\n",
       "      <td>0.853801</td>\n",
       "      <td>0.680217</td>\n",
       "      <td>2.70630</td>\n",
       "      <td>0.728977</td>\n",
       "    </tr>\n",
       "    <tr>\n",
       "      <th>0</th>\n",
       "      <td>5.002407</td>\n",
       "      <td>0.893770</td>\n",
       "      <td>17.08059</td>\n",
       "      <td>25.024079</td>\n",
       "    </tr>\n",
       "    <tr>\n",
       "      <th>0</th>\n",
       "      <td>17.468361</td>\n",
       "      <td>13.222048</td>\n",
       "      <td>59.73067</td>\n",
       "      <td>305.143644</td>\n",
       "    </tr>\n",
       "    <tr>\n",
       "      <th>0</th>\n",
       "      <td>3.635405</td>\n",
       "      <td>1.937928</td>\n",
       "      <td>12.33016</td>\n",
       "      <td>13.216169</td>\n",
       "    </tr>\n",
       "    <tr>\n",
       "      <th>0</th>\n",
       "      <td>15.304437</td>\n",
       "      <td>13.086150</td>\n",
       "      <td>55.95564</td>\n",
       "      <td>234.225789</td>\n",
       "    </tr>\n",
       "    <tr>\n",
       "      <th>0</th>\n",
       "      <td>2.806293</td>\n",
       "      <td>1.340335</td>\n",
       "      <td>10.49092</td>\n",
       "      <td>7.875282</td>\n",
       "    </tr>\n",
       "    <tr>\n",
       "      <th>0</th>\n",
       "      <td>1.947242</td>\n",
       "      <td>2.120555</td>\n",
       "      <td>6.64699</td>\n",
       "      <td>3.791751</td>\n",
       "    </tr>\n",
       "    <tr>\n",
       "      <th>0</th>\n",
       "      <td>0.404348</td>\n",
       "      <td>0.373337</td>\n",
       "      <td>1.47731</td>\n",
       "      <td>0.163497</td>\n",
       "    </tr>\n",
       "    <tr>\n",
       "      <th>0</th>\n",
       "      <td>1.055759</td>\n",
       "      <td>0.715815</td>\n",
       "      <td>3.14621</td>\n",
       "      <td>1.114626</td>\n",
       "    </tr>\n",
       "    <tr>\n",
       "      <th>0</th>\n",
       "      <td>1.453080</td>\n",
       "      <td>1.583342</td>\n",
       "      <td>4.87724</td>\n",
       "      <td>2.111441</td>\n",
       "    </tr>\n",
       "    <tr>\n",
       "      <th>0</th>\n",
       "      <td>0.789869</td>\n",
       "      <td>0.860980</td>\n",
       "      <td>2.80266</td>\n",
       "      <td>0.623894</td>\n",
       "    </tr>\n",
       "    <tr>\n",
       "      <th>0</th>\n",
       "      <td>2.798037</td>\n",
       "      <td>3.259300</td>\n",
       "      <td>8.57150</td>\n",
       "      <td>7.829011</td>\n",
       "    </tr>\n",
       "    <tr>\n",
       "      <th>0</th>\n",
       "      <td>10.237452</td>\n",
       "      <td>3.553090</td>\n",
       "      <td>42.90860</td>\n",
       "      <td>104.805424</td>\n",
       "    </tr>\n",
       "    <tr>\n",
       "      <th>0</th>\n",
       "      <td>11.198991</td>\n",
       "      <td>11.443770</td>\n",
       "      <td>38.43821</td>\n",
       "      <td>125.417409</td>\n",
       "    </tr>\n",
       "    <tr>\n",
       "      <th>0</th>\n",
       "      <td>1.250984</td>\n",
       "      <td>1.044385</td>\n",
       "      <td>4.36774</td>\n",
       "      <td>1.564960</td>\n",
       "    </tr>\n",
       "    <tr>\n",
       "      <th>0</th>\n",
       "      <td>4.257307</td>\n",
       "      <td>3.542607</td>\n",
       "      <td>13.32690</td>\n",
       "      <td>18.124666</td>\n",
       "    </tr>\n",
       "    <tr>\n",
       "      <th>0</th>\n",
       "      <td>1.127522</td>\n",
       "      <td>1.326852</td>\n",
       "      <td>3.80283</td>\n",
       "      <td>1.271305</td>\n",
       "    </tr>\n",
       "    <tr>\n",
       "      <th>0</th>\n",
       "      <td>2.434310</td>\n",
       "      <td>0.668487</td>\n",
       "      <td>8.46665</td>\n",
       "      <td>5.925865</td>\n",
       "    </tr>\n",
       "    <tr>\n",
       "      <th>0</th>\n",
       "      <td>1.044215</td>\n",
       "      <td>0.581317</td>\n",
       "      <td>4.17324</td>\n",
       "      <td>1.090386</td>\n",
       "    </tr>\n",
       "    <tr>\n",
       "      <th>0</th>\n",
       "      <td>0.589633</td>\n",
       "      <td>0.483950</td>\n",
       "      <td>2.84829</td>\n",
       "      <td>0.347667</td>\n",
       "    </tr>\n",
       "    <tr>\n",
       "      <th>0</th>\n",
       "      <td>1.193934</td>\n",
       "      <td>1.278270</td>\n",
       "      <td>4.34405</td>\n",
       "      <td>1.425479</td>\n",
       "    </tr>\n",
       "    <tr>\n",
       "      <th>0</th>\n",
       "      <td>0.419513</td>\n",
       "      <td>0.167932</td>\n",
       "      <td>2.04678</td>\n",
       "      <td>0.175991</td>\n",
       "    </tr>\n",
       "    <tr>\n",
       "      <th>0</th>\n",
       "      <td>1.316047</td>\n",
       "      <td>0.438652</td>\n",
       "      <td>5.12836</td>\n",
       "      <td>1.731981</td>\n",
       "    </tr>\n",
       "    <tr>\n",
       "      <th>0</th>\n",
       "      <td>3.861983</td>\n",
       "      <td>2.967290</td>\n",
       "      <td>13.48541</td>\n",
       "      <td>14.914914</td>\n",
       "    </tr>\n",
       "    <tr>\n",
       "      <th>0</th>\n",
       "      <td>3.498198</td>\n",
       "      <td>2.559322</td>\n",
       "      <td>9.41977</td>\n",
       "      <td>12.237389</td>\n",
       "    </tr>\n",
       "    <tr>\n",
       "      <th>0</th>\n",
       "      <td>1.403450</td>\n",
       "      <td>1.302222</td>\n",
       "      <td>4.74088</td>\n",
       "      <td>1.969671</td>\n",
       "    </tr>\n",
       "    <tr>\n",
       "      <th>0</th>\n",
       "      <td>0.581400</td>\n",
       "      <td>0.288153</td>\n",
       "      <td>2.61207</td>\n",
       "      <td>0.338026</td>\n",
       "    </tr>\n",
       "    <tr>\n",
       "      <th>0</th>\n",
       "      <td>0.373976</td>\n",
       "      <td>0.627810</td>\n",
       "      <td>1.15295</td>\n",
       "      <td>0.139858</td>\n",
       "    </tr>\n",
       "  </tbody>\n",
       "</table>\n",
       "</div>"
      ],
      "text/plain": [
       "         std  interquartilerange     range    variance\n",
       "0   0.255330            0.229228   1.35521    0.065194\n",
       "0   5.751575            1.823737  22.84415   33.080610\n",
       "0  13.717925           16.989567  34.84700  188.181454\n",
       "0   1.188703            0.956727   3.89319    1.413014\n",
       "0   1.893093            0.744145   6.10639    3.583801\n",
       "0   0.853801            0.680217   2.70630    0.728977\n",
       "0   5.002407            0.893770  17.08059   25.024079\n",
       "0  17.468361           13.222048  59.73067  305.143644\n",
       "0   3.635405            1.937928  12.33016   13.216169\n",
       "0  15.304437           13.086150  55.95564  234.225789\n",
       "0   2.806293            1.340335  10.49092    7.875282\n",
       "0   1.947242            2.120555   6.64699    3.791751\n",
       "0   0.404348            0.373337   1.47731    0.163497\n",
       "0   1.055759            0.715815   3.14621    1.114626\n",
       "0   1.453080            1.583342   4.87724    2.111441\n",
       "0   0.789869            0.860980   2.80266    0.623894\n",
       "0   2.798037            3.259300   8.57150    7.829011\n",
       "0  10.237452            3.553090  42.90860  104.805424\n",
       "0  11.198991           11.443770  38.43821  125.417409\n",
       "0   1.250984            1.044385   4.36774    1.564960\n",
       "0   4.257307            3.542607  13.32690   18.124666\n",
       "0   1.127522            1.326852   3.80283    1.271305\n",
       "0   2.434310            0.668487   8.46665    5.925865\n",
       "0   1.044215            0.581317   4.17324    1.090386\n",
       "0   0.589633            0.483950   2.84829    0.347667\n",
       "0   1.193934            1.278270   4.34405    1.425479\n",
       "0   0.419513            0.167932   2.04678    0.175991\n",
       "0   1.316047            0.438652   5.12836    1.731981\n",
       "0   3.861983            2.967290  13.48541   14.914914\n",
       "0   3.498198            2.559322   9.41977   12.237389\n",
       "0   1.403450            1.302222   4.74088    1.969671\n",
       "0   0.581400            0.288153   2.61207    0.338026\n",
       "0   0.373976            0.627810   1.15295    0.139858"
      ]
     },
     "execution_count": 29,
     "metadata": {},
     "output_type": "execute_result"
    }
   ],
   "source": [
    "x_test"
   ]
  },
  {
   "cell_type": "code",
   "execution_count": 30,
   "metadata": {},
   "outputs": [],
   "source": [
    "scaler = StandardScaler()\n",
    "scaler.fit(x_test)\n",
    "scaled_features1 = scaler.transform(x_test)"
   ]
  },
  {
   "cell_type": "code",
   "execution_count": 31,
   "metadata": {},
   "outputs": [
    {
     "data": {
      "text/plain": [
       "array([[-0.75496098, -0.61704578, -0.72547273, -0.46513178],\n",
       "       [ 0.46017303, -0.23741937,  0.65970245, -0.01165142],\n",
       "       [ 2.22140896,  3.37331343,  1.43340511,  2.11872264],\n",
       "       [-0.54860687, -0.44384009, -0.56187477, -0.4466189 ],\n",
       "       [-0.39287714, -0.49445246, -0.41921209, -0.41680225],\n",
       "       [-0.62264837, -0.50967254, -0.63838159, -0.45601444],\n",
       "       [ 0.29454382, -0.45882922,  0.28818388, -0.12231119],\n",
       "       [ 3.0505721 ,  2.47632935,  3.03740429,  3.72524655],\n",
       "       [-0.00767913, -0.21023263, -0.01802842, -0.2844977 ],\n",
       "       [ 2.57216213,  2.44397441,  2.79406619,  2.75116057],\n",
       "       [-0.1909828 , -0.3525095 , -0.13658567, -0.35785699],\n",
       "       [-0.38090569, -0.16675205, -0.38436506, -0.41394597],\n",
       "       [-0.72201557, -0.58273558, -0.71760218, -0.46378154],\n",
       "       [-0.57799876, -0.50119736, -0.61002503, -0.45071739],\n",
       "       [-0.4901572 , -0.29465344, -0.49844299, -0.43702572],\n",
       "       [-0.63678273, -0.46663598, -0.63217024, -0.4574578 ],\n",
       "       [-0.19280813,  0.10436427, -0.26031132, -0.35849254],\n",
       "       [ 1.45193068,  0.1743108 ,  1.95305514,  0.97351848],\n",
       "       [ 1.66451206,  2.05295094,  1.66489419,  1.25663259],\n",
       "       [-0.53483754, -0.42297029, -0.53128532, -0.44453186],\n",
       "       [ 0.12981383,  0.17181509,  0.04622135, -0.21707747],\n",
       "       [-0.56213305, -0.35571946, -0.56769936, -0.44856533],\n",
       "       [-0.27322253, -0.51246525, -0.26706994, -0.38463304],\n",
       "       [-0.5805508 , -0.53321899, -0.54382277, -0.45105034],\n",
       "       [-0.6810519 , -0.55640058, -0.62922893, -0.46125189],\n",
       "       [-0.54745027, -0.36728615, -0.53281237, -0.44644769],\n",
       "       [-0.71866273, -0.63163911, -0.68089419, -0.46360992],\n",
       "       [-0.52045294, -0.56718516, -0.48225582, -0.44223776],\n",
       "       [ 0.04241381,  0.03484153,  0.05643889, -0.26116474],\n",
       "       [-0.03801344, -0.06228878, -0.20563191, -0.29794165],\n",
       "       [-0.50112969, -0.36158345, -0.50723274, -0.438973  ],\n",
       "       [-0.68287196, -0.60301672, -0.64445565, -0.4613843 ],\n",
       "       [-0.72873018, -0.52214989, -0.7385104 , -0.46410622]])"
      ]
     },
     "execution_count": 31,
     "metadata": {},
     "output_type": "execute_result"
    }
   ],
   "source": [
    "scaled_features1"
   ]
  },
  {
   "cell_type": "code",
   "execution_count": 32,
   "metadata": {},
   "outputs": [
    {
     "data": {
      "text/html": [
       "<div>\n",
       "<style scoped>\n",
       "    .dataframe tbody tr th:only-of-type {\n",
       "        vertical-align: middle;\n",
       "    }\n",
       "\n",
       "    .dataframe tbody tr th {\n",
       "        vertical-align: top;\n",
       "    }\n",
       "\n",
       "    .dataframe thead th {\n",
       "        text-align: right;\n",
       "    }\n",
       "</style>\n",
       "<table border=\"1\" class=\"dataframe\">\n",
       "  <thead>\n",
       "    <tr style=\"text-align: right;\">\n",
       "      <th></th>\n",
       "      <th>std</th>\n",
       "      <th>interquartilerange</th>\n",
       "      <th>range</th>\n",
       "      <th>variance</th>\n",
       "    </tr>\n",
       "  </thead>\n",
       "  <tbody>\n",
       "    <tr>\n",
       "      <th>0</th>\n",
       "      <td>-0.754961</td>\n",
       "      <td>-0.617046</td>\n",
       "      <td>-0.725473</td>\n",
       "      <td>-0.465132</td>\n",
       "    </tr>\n",
       "    <tr>\n",
       "      <th>1</th>\n",
       "      <td>0.460173</td>\n",
       "      <td>-0.237419</td>\n",
       "      <td>0.659702</td>\n",
       "      <td>-0.011651</td>\n",
       "    </tr>\n",
       "    <tr>\n",
       "      <th>2</th>\n",
       "      <td>2.221409</td>\n",
       "      <td>3.373313</td>\n",
       "      <td>1.433405</td>\n",
       "      <td>2.118723</td>\n",
       "    </tr>\n",
       "    <tr>\n",
       "      <th>3</th>\n",
       "      <td>-0.548607</td>\n",
       "      <td>-0.443840</td>\n",
       "      <td>-0.561875</td>\n",
       "      <td>-0.446619</td>\n",
       "    </tr>\n",
       "    <tr>\n",
       "      <th>4</th>\n",
       "      <td>-0.392877</td>\n",
       "      <td>-0.494452</td>\n",
       "      <td>-0.419212</td>\n",
       "      <td>-0.416802</td>\n",
       "    </tr>\n",
       "  </tbody>\n",
       "</table>\n",
       "</div>"
      ],
      "text/plain": [
       "        std  interquartilerange     range  variance\n",
       "0 -0.754961           -0.617046 -0.725473 -0.465132\n",
       "1  0.460173           -0.237419  0.659702 -0.011651\n",
       "2  2.221409            3.373313  1.433405  2.118723\n",
       "3 -0.548607           -0.443840 -0.561875 -0.446619\n",
       "4 -0.392877           -0.494452 -0.419212 -0.416802"
      ]
     },
     "execution_count": 32,
     "metadata": {},
     "output_type": "execute_result"
    }
   ],
   "source": [
    "x_test_df = pd.DataFrame(scaled_features1,columns=x_test.columns)\n",
    "x_test_df.head()"
   ]
  },
  {
   "cell_type": "code",
   "execution_count": 33,
   "metadata": {},
   "outputs": [],
   "source": [
    "from sklearn.neighbors import KNeighborsClassifier"
   ]
  },
  {
   "cell_type": "code",
   "execution_count": 34,
   "metadata": {},
   "outputs": [
    {
     "data": {
      "text/plain": [
       "KNeighborsClassifier(algorithm='auto', leaf_size=30, metric='minkowski',\n",
       "                     metric_params=None, n_jobs=None, n_neighbors=1, p=2,\n",
       "                     weights='uniform')"
      ]
     },
     "execution_count": 34,
     "metadata": {},
     "output_type": "execute_result"
    }
   ],
   "source": [
    "knn = KNeighborsClassifier(n_neighbors=1)\n",
    "knn.fit(x_train_df,y_train)"
   ]
  },
  {
   "cell_type": "code",
   "execution_count": 35,
   "metadata": {},
   "outputs": [],
   "source": [
    "predictions = knn.predict(x_test_df)"
   ]
  },
  {
   "cell_type": "code",
   "execution_count": 36,
   "metadata": {},
   "outputs": [
    {
     "data": {
      "text/plain": [
       "array([0, 0, 1, 0, 0, 0, 0, 1, 0, 1, 0, 0, 0, 0, 0, 0, 0, 1, 1, 0, 0, 0,\n",
       "       0, 0, 0, 0, 0, 0, 0, 0, 0, 0, 0])"
      ]
     },
     "execution_count": 36,
     "metadata": {},
     "output_type": "execute_result"
    }
   ],
   "source": [
    "predictions"
   ]
  },
  {
   "cell_type": "code",
   "execution_count": 37,
   "metadata": {},
   "outputs": [],
   "source": [
    "from sklearn.metrics import classification_report,confusion_matrix"
   ]
  },
  {
   "cell_type": "code",
   "execution_count": 38,
   "metadata": {},
   "outputs": [
    {
     "name": "stdout",
     "output_type": "stream",
     "text": [
      "[[28  1]\n",
      " [ 0  4]]\n"
     ]
    }
   ],
   "source": [
    "print(confusion_matrix(y_test,predictions))"
   ]
  },
  {
   "cell_type": "code",
   "execution_count": 39,
   "metadata": {},
   "outputs": [
    {
     "name": "stdout",
     "output_type": "stream",
     "text": [
      "              precision    recall  f1-score   support\n",
      "\n",
      "           0       1.00      0.97      0.98        29\n",
      "           1       0.80      1.00      0.89         4\n",
      "\n",
      "    accuracy                           0.97        33\n",
      "   macro avg       0.90      0.98      0.94        33\n",
      "weighted avg       0.98      0.97      0.97        33\n",
      "\n"
     ]
    }
   ],
   "source": [
    "print(classification_report(y_test,predictions))"
   ]
  },
  {
   "cell_type": "code",
   "execution_count": 40,
   "metadata": {},
   "outputs": [],
   "source": [
    "error_rate = []\n",
    "\n",
    "# Will take some time\n",
    "for i in range(1,40):\n",
    "    \n",
    "    knn = KNeighborsClassifier(n_neighbors=i)\n",
    "    knn.fit(x_train_df,y_train)\n",
    "    pred_i = knn.predict(x_test_df)\n",
    "    error_rate.append(np.mean(pred_i != y_test))"
   ]
  },
  {
   "cell_type": "code",
   "execution_count": 41,
   "metadata": {},
   "outputs": [
    {
     "data": {
      "text/plain": [
       "[0.030303030303030304,\n",
       " 0.030303030303030304,\n",
       " 0.06060606060606061,\n",
       " 0.030303030303030304,\n",
       " 0.030303030303030304,\n",
       " 0.030303030303030304,\n",
       " 0.06060606060606061,\n",
       " 0.030303030303030304,\n",
       " 0.06060606060606061,\n",
       " 0.06060606060606061,\n",
       " 0.06060606060606061,\n",
       " 0.030303030303030304,\n",
       " 0.030303030303030304,\n",
       " 0.030303030303030304,\n",
       " 0.030303030303030304,\n",
       " 0.030303030303030304,\n",
       " 0.030303030303030304,\n",
       " 0.030303030303030304,\n",
       " 0.030303030303030304,\n",
       " 0.030303030303030304,\n",
       " 0.030303030303030304,\n",
       " 0.030303030303030304,\n",
       " 0.030303030303030304,\n",
       " 0.030303030303030304,\n",
       " 0.030303030303030304,\n",
       " 0.030303030303030304,\n",
       " 0.030303030303030304,\n",
       " 0.030303030303030304,\n",
       " 0.030303030303030304,\n",
       " 0.030303030303030304,\n",
       " 0.030303030303030304,\n",
       " 0.030303030303030304,\n",
       " 0.030303030303030304,\n",
       " 0.030303030303030304,\n",
       " 0.030303030303030304,\n",
       " 0.030303030303030304,\n",
       " 0.030303030303030304,\n",
       " 0.030303030303030304,\n",
       " 0.030303030303030304]"
      ]
     },
     "execution_count": 41,
     "metadata": {},
     "output_type": "execute_result"
    }
   ],
   "source": [
    "error_rate"
   ]
  },
  {
   "cell_type": "code",
   "execution_count": 42,
   "metadata": {},
   "outputs": [
    {
     "data": {
      "text/plain": [
       "Text(0, 0.5, 'Error Rate')"
      ]
     },
     "execution_count": 42,
     "metadata": {},
     "output_type": "execute_result"
    },
    {
     "data": {
      "image/png": "[encoded data removed]",
      "text/plain": [
       "<Figure size 720x432 with 1 Axes>"
      ]
     },
     "metadata": {
      "needs_background": "light"
     },
     "output_type": "display_data"
    }
   ],
   "source": [
    "plt.figure(figsize=(10,6))\n",
    "plt.plot(range(1,40),error_rate,color='blue', linestyle='dashed', marker='o',\n",
    "         markerfacecolor='red', markersize=10)\n",
    "plt.title('Error Rate vs. K Value')\n",
    "plt.xlabel('K')\n",
    "plt.ylabel('Error Rate')"
   ]
  },
  {
   "cell_type": "code",
   "execution_count": 43,
   "metadata": {},
   "outputs": [
    {
     "name": "stdout",
     "output_type": "stream",
     "text": [
      "WITH K=1\n",
      "\n",
      "\n",
      "[[28  1]\n",
      " [ 0  4]]\n",
      "\n",
      "\n",
      "              precision    recall  f1-score   support\n",
      "\n",
      "           0       1.00      0.97      0.98        29\n",
      "           1       0.80      1.00      0.89         4\n",
      "\n",
      "    accuracy                           0.97        33\n",
      "   macro avg       0.90      0.98      0.94        33\n",
      "weighted avg       0.98      0.97      0.97        33\n",
      "\n"
     ]
    }
   ],
   "source": [
    "# FIRST A QUICK COMPARISON TO OUR ORIGINAL K=1\n",
    "knn = KNeighborsClassifier(n_neighbors=1)\n",
    "\n",
    "knn.fit(x_train_df,y_train)\n",
    "pred = knn.predict(x_test_df)\n",
    "\n",
    "print('WITH K=1')\n",
    "print('\\n')\n",
    "print(confusion_matrix(y_test,pred))\n",
    "print('\\n')\n",
    "print(classification_report(y_test,pred))"
   ]
  },
  {
   "cell_type": "code",
   "execution_count": 44,
   "metadata": {},
   "outputs": [
    {
     "name": "stdout",
     "output_type": "stream",
     "text": [
      "WITH K=15\n",
      "\n",
      "\n",
      "[[28  1]\n",
      " [ 0  4]]\n",
      "\n",
      "\n",
      "              precision    recall  f1-score   support\n",
      "\n",
      "           0       1.00      0.97      0.98        29\n",
      "           1       0.80      1.00      0.89         4\n",
      "\n",
      "    accuracy                           0.97        33\n",
      "   macro avg       0.90      0.98      0.94        33\n",
      "weighted avg       0.98      0.97      0.97        33\n",
      "\n"
     ]
    }
   ],
   "source": [
    "# NOW WITH K=15\n",
    "knn = KNeighborsClassifier(n_neighbors=15)\n",
    "\n",
    "knn.fit(x_train_df,y_train)\n",
    "pred = knn.predict(x_test_df)\n",
    "\n",
    "print('WITH K=15')\n",
    "print('\\n')\n",
    "print(confusion_matrix(y_test,pred))\n",
    "print('\\n')\n",
    "print(classification_report(y_test,pred))"
   ]
  },
  {
   "cell_type": "code",
   "execution_count": 45,
   "metadata": {},
   "outputs": [
    {
     "name": "stdout",
     "output_type": "stream",
     "text": [
      "WITH K=3\n",
      "\n",
      "\n",
      "[[27  2]\n",
      " [ 0  4]]\n",
      "\n",
      "\n",
      "              precision    recall  f1-score   support\n",
      "\n",
      "           0       1.00      0.93      0.96        29\n",
      "           1       0.67      1.00      0.80         4\n",
      "\n",
      "    accuracy                           0.94        33\n",
      "   macro avg       0.83      0.97      0.88        33\n",
      "weighted avg       0.96      0.94      0.94        33\n",
      "\n"
     ]
    }
   ],
   "source": [
    "# NOW WITH K=3\n",
    "knn = KNeighborsClassifier(n_neighbors=3)\n",
    "\n",
    "knn.fit(x_train_df,y_train)\n",
    "pred = knn.predict(x_test_df)\n",
    "\n",
    "print('WITH K=3')\n",
    "print('\\n')\n",
    "print(confusion_matrix(y_test,pred))\n",
    "print('\\n')\n",
    "print(classification_report(y_test,pred))"
   ]
  },
  {
   "cell_type": "code",
   "execution_count": 46,
   "metadata": {},
   "outputs": [
    {
     "name": "stdout",
     "output_type": "stream",
     "text": [
      "WITH K=8\n",
      "\n",
      "\n",
      "[[28  1]\n",
      " [ 0  4]]\n",
      "\n",
      "\n",
      "              precision    recall  f1-score   support\n",
      "\n",
      "           0       1.00      0.97      0.98        29\n",
      "           1       0.80      1.00      0.89         4\n",
      "\n",
      "    accuracy                           0.97        33\n",
      "   macro avg       0.90      0.98      0.94        33\n",
      "weighted avg       0.98      0.97      0.97        33\n",
      "\n"
     ]
    }
   ],
   "source": [
    "# NOW WITH K=8\n",
    "knn = KNeighborsClassifier(n_neighbors=8)\n",
    "\n",
    "knn.fit(x_train_df,y_train)\n",
    "pred = knn.predict(x_test_df)\n",
    "\n",
    "print('WITH K=8')\n",
    "print('\\n')\n",
    "print(confusion_matrix(y_test,pred))\n",
    "print('\\n')\n",
    "print(classification_report(y_test,pred))"
   ]
  },
  {
   "cell_type": "code",
   "execution_count": 47,
   "metadata": {},
   "outputs": [
    {
     "name": "stdout",
     "output_type": "stream",
     "text": [
      "WITH K=35\n",
      "\n",
      "\n",
      "[[28  1]\n",
      " [ 0  4]]\n",
      "\n",
      "\n",
      "              precision    recall  f1-score   support\n",
      "\n",
      "           0       1.00      0.97      0.98        29\n",
      "           1       0.80      1.00      0.89         4\n",
      "\n",
      "    accuracy                           0.97        33\n",
      "   macro avg       0.90      0.98      0.94        33\n",
      "weighted avg       0.98      0.97      0.97        33\n",
      "\n"
     ]
    }
   ],
   "source": [
    "# NOW WITH K=35\n",
    "knn = KNeighborsClassifier(n_neighbors=35)\n",
    "\n",
    "knn.fit(x_train_df,y_train)\n",
    "pred = knn.predict(x_test_df)\n",
    "\n",
    "print('WITH K=35')\n",
    "print('\\n')\n",
    "print(confusion_matrix(y_test,pred))\n",
    "print('\\n')\n",
    "print(classification_report(y_test,pred))"
   ]
  },
  {
   "cell_type": "code",
   "execution_count": null,
   "metadata": {},
   "outputs": [],
   "source": []
  },
  {
   "cell_type": "code",
   "execution_count": 48,
   "metadata": {},
   "outputs": [],
   "source": [
    "marker = ['N']*len(windows)"
   ]
  },
  {
   "cell_type": "code",
   "execution_count": 49,
   "metadata": {},
   "outputs": [],
   "source": [
    "j =0\n",
    "for i in predictions:\n",
    "    if i == 1:\n",
    "        marker[j] = 'LT'\n",
    "    if i == 2:\n",
    "        marker[j] = 'RT'\n",
    "    j=j+1\n",
    "    "
   ]
  },
  {
   "cell_type": "code",
   "execution_count": 50,
   "metadata": {},
   "outputs": [],
   "source": [
    "font_dict = {'family':'serif', 'color':'darkred', 'size':15 }"
   ]
  },
  {
   "cell_type": "code",
   "execution_count": 51,
   "metadata": {},
   "outputs": [
    {
     "data": {
      "image/png": "[encoded data removed]",
      "text/plain": [
       "<Figure size 1080x432 with 1 Axes>"
      ]
     },
     "metadata": {
      "needs_background": "light"
     },
     "output_type": "display_data"
    }
   ],
   "source": [
    "plt.figure(figsize = (15,6))\n",
    "plt.plot(data_test['time_stamp'], data_test['ori'])\n",
    "for i in range(len(marker)):\n",
    "    plt.text(time_stamp_windows[i].iloc[0]+50, 200, marker[i], fontdict = font_dict)\n",
    "plt.show()"
   ]
  },
  {
   "cell_type": "code",
   "execution_count": 52,
   "metadata": {},
   "outputs": [],
   "source": [
    "df = pd.read_excel('/home/surbhi/deadline_project/sensor_data_collection/oneplus3/feature/feature'+str(1)+'.xlsx')\n",
    "   "
   ]
  },
  {
   "cell_type": "code",
   "execution_count": 53,
   "metadata": {},
   "outputs": [
    {
     "data": {
      "text/html": [
       "<div>\n",
       "<style scoped>\n",
       "    .dataframe tbody tr th:only-of-type {\n",
       "        vertical-align: middle;\n",
       "    }\n",
       "\n",
       "    .dataframe tbody tr th {\n",
       "        vertical-align: top;\n",
       "    }\n",
       "\n",
       "    .dataframe thead th {\n",
       "        text-align: right;\n",
       "    }\n",
       "</style>\n",
       "<table border=\"1\" class=\"dataframe\">\n",
       "  <thead>\n",
       "    <tr style=\"text-align: right;\">\n",
       "      <th></th>\n",
       "      <th>Unnamed: 0</th>\n",
       "      <th>ori</th>\n",
       "    </tr>\n",
       "  </thead>\n",
       "  <tbody>\n",
       "    <tr>\n",
       "      <th>0</th>\n",
       "      <td>count</td>\n",
       "      <td>100.000000</td>\n",
       "    </tr>\n",
       "    <tr>\n",
       "      <th>1</th>\n",
       "      <td>mean</td>\n",
       "      <td>184.356784</td>\n",
       "    </tr>\n",
       "    <tr>\n",
       "      <th>2</th>\n",
       "      <td>std</td>\n",
       "      <td>0.255330</td>\n",
       "    </tr>\n",
       "    <tr>\n",
       "      <th>3</th>\n",
       "      <td>min</td>\n",
       "      <td>183.320740</td>\n",
       "    </tr>\n",
       "    <tr>\n",
       "      <th>4</th>\n",
       "      <td>25%</td>\n",
       "      <td>184.221868</td>\n",
       "    </tr>\n",
       "    <tr>\n",
       "      <th>5</th>\n",
       "      <td>50%</td>\n",
       "      <td>184.451095</td>\n",
       "    </tr>\n",
       "    <tr>\n",
       "      <th>6</th>\n",
       "      <td>75%</td>\n",
       "      <td>184.539205</td>\n",
       "    </tr>\n",
       "    <tr>\n",
       "      <th>7</th>\n",
       "      <td>max</td>\n",
       "      <td>184.675950</td>\n",
       "    </tr>\n",
       "    <tr>\n",
       "      <th>8</th>\n",
       "      <td>interquartilerange</td>\n",
       "      <td>0.229228</td>\n",
       "    </tr>\n",
       "    <tr>\n",
       "      <th>9</th>\n",
       "      <td>range</td>\n",
       "      <td>1.355210</td>\n",
       "    </tr>\n",
       "    <tr>\n",
       "      <th>10</th>\n",
       "      <td>variance</td>\n",
       "      <td>0.065194</td>\n",
       "    </tr>\n",
       "  </tbody>\n",
       "</table>\n",
       "</div>"
      ],
      "text/plain": [
       "            Unnamed: 0         ori\n",
       "0                count  100.000000\n",
       "1                 mean  184.356784\n",
       "2                  std    0.255330\n",
       "3                  min  183.320740\n",
       "4                  25%  184.221868\n",
       "5                  50%  184.451095\n",
       "6                  75%  184.539205\n",
       "7                  max  184.675950\n",
       "8   interquartilerange    0.229228\n",
       "9                range    1.355210\n",
       "10            variance    0.065194"
      ]
     },
     "execution_count": 53,
     "metadata": {},
     "output_type": "execute_result"
    }
   ],
   "source": [
    "df"
   ]
  },
  {
   "cell_type": "code",
   "execution_count": null,
   "metadata": {},
   "outputs": [],
   "source": []
  }
 ],
 "metadata": {
  "kernelspec": {
   "display_name": "Python 3",
   "language": "python",
   "name": "python3"
  },
  "language_info": {
   "codemirror_mode": {
    "name": "ipython",
    "version": 3
   },
   "file_extension": ".py",
   "mimetype": "text/x-python",
   "name": "python",
   "nbconvert_exporter": "python",
   "pygments_lexer": "ipython3",
   "version": "3.7.7"
  }
 },
 "nbformat": 4,
 "nbformat_minor": 4
}
