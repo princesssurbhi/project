{
 "cells": [
  {
   "cell_type": "code",
   "execution_count": 32,
   "metadata": {},
   "outputs": [],
   "source": [
    "import numpy as np\n",
    "import pandas as pd\n",
    "import matplotlib.pyplot as plt\n",
    "import seaborn as sns\n",
    "%matplotlib inline"
   ]
  },
  {
   "cell_type": "code",
   "execution_count": 33,
   "metadata": {},
   "outputs": [],
   "source": [
    "data_train = pd.read_excel('/home/surbhi/deadline_project/sensor_data_collection/oneplus3/training_set_for_turn_detection.xlsx')"
   ]
  },
  {
   "cell_type": "code",
   "execution_count": 34,
   "metadata": {},
   "outputs": [],
   "source": [
    "data_test = pd.read_csv('/home/surbhi/deadline_project/sensor_data_collection/oneplus3/test.csv')"
   ]
  },
  {
   "cell_type": "code",
   "execution_count": 35,
   "metadata": {},
   "outputs": [],
   "source": [
    "y_test = pd.read_excel('/home/surbhi/deadline_project/sensor_data_collection/oneplus3/y_test.xlsx')"
   ]
  },
  {
   "cell_type": "code",
   "execution_count": 36,
   "metadata": {},
   "outputs": [
    {
     "data": {
      "text/html": [
       "<div>\n",
       "<style scoped>\n",
       "    .dataframe tbody tr th:only-of-type {\n",
       "        vertical-align: middle;\n",
       "    }\n",
       "\n",
       "    .dataframe tbody tr th {\n",
       "        vertical-align: top;\n",
       "    }\n",
       "\n",
       "    .dataframe thead th {\n",
       "        text-align: right;\n",
       "    }\n",
       "</style>\n",
       "<table border=\"1\" class=\"dataframe\">\n",
       "  <thead>\n",
       "    <tr style=\"text-align: right;\">\n",
       "      <th></th>\n",
       "      <th>std</th>\n",
       "      <th>interquartilerange</th>\n",
       "      <th>range</th>\n",
       "      <th>variance</th>\n",
       "      <th>feature</th>\n",
       "    </tr>\n",
       "  </thead>\n",
       "  <tbody>\n",
       "    <tr>\n",
       "      <th>0</th>\n",
       "      <td>1.893093</td>\n",
       "      <td>0.744145</td>\n",
       "      <td>6.10639</td>\n",
       "      <td>3.583801</td>\n",
       "      <td>0</td>\n",
       "    </tr>\n",
       "    <tr>\n",
       "      <th>1</th>\n",
       "      <td>12.137999</td>\n",
       "      <td>11.900842</td>\n",
       "      <td>45.21478</td>\n",
       "      <td>147.331026</td>\n",
       "      <td>2</td>\n",
       "    </tr>\n",
       "    <tr>\n",
       "      <th>2</th>\n",
       "      <td>3.861983</td>\n",
       "      <td>2.967290</td>\n",
       "      <td>13.48541</td>\n",
       "      <td>14.914914</td>\n",
       "      <td>0</td>\n",
       "    </tr>\n",
       "    <tr>\n",
       "      <th>3</th>\n",
       "      <td>2.806293</td>\n",
       "      <td>1.340335</td>\n",
       "      <td>10.49092</td>\n",
       "      <td>7.875282</td>\n",
       "      <td>0</td>\n",
       "    </tr>\n",
       "    <tr>\n",
       "      <th>4</th>\n",
       "      <td>4.436192</td>\n",
       "      <td>7.716569</td>\n",
       "      <td>11.91696</td>\n",
       "      <td>19.679798</td>\n",
       "      <td>0</td>\n",
       "    </tr>\n",
       "  </tbody>\n",
       "</table>\n",
       "</div>"
      ],
      "text/plain": [
       "         std  interquartilerange     range    variance  feature\n",
       "0   1.893093            0.744145   6.10639    3.583801        0\n",
       "1  12.137999           11.900842  45.21478  147.331026        2\n",
       "2   3.861983            2.967290  13.48541   14.914914        0\n",
       "3   2.806293            1.340335  10.49092    7.875282        0\n",
       "4   4.436192            7.716569  11.91696   19.679798        0"
      ]
     },
     "execution_count": 36,
     "metadata": {},
     "output_type": "execute_result"
    }
   ],
   "source": [
    "data_train.head()"
   ]
  },
  {
   "cell_type": "code",
   "execution_count": 37,
   "metadata": {},
   "outputs": [
    {
     "data": {
      "text/html": [
       "<div>\n",
       "<style scoped>\n",
       "    .dataframe tbody tr th:only-of-type {\n",
       "        vertical-align: middle;\n",
       "    }\n",
       "\n",
       "    .dataframe tbody tr th {\n",
       "        vertical-align: top;\n",
       "    }\n",
       "\n",
       "    .dataframe thead th {\n",
       "        text-align: right;\n",
       "    }\n",
       "</style>\n",
       "<table border=\"1\" class=\"dataframe\">\n",
       "  <thead>\n",
       "    <tr style=\"text-align: right;\">\n",
       "      <th></th>\n",
       "      <th>time_stamp</th>\n",
       "      <th>ori</th>\n",
       "      <th>Unnamed: 2</th>\n",
       "      <th>Unnamed: 3</th>\n",
       "    </tr>\n",
       "  </thead>\n",
       "  <tbody>\n",
       "    <tr>\n",
       "      <th>0</th>\n",
       "      <td>1582892149513</td>\n",
       "      <td>183.32074</td>\n",
       "      <td>-23.296076</td>\n",
       "      <td>-8.208767</td>\n",
       "    </tr>\n",
       "    <tr>\n",
       "      <th>1</th>\n",
       "      <td>1582892149530</td>\n",
       "      <td>183.43580</td>\n",
       "      <td>-23.217299</td>\n",
       "      <td>-8.004543</td>\n",
       "    </tr>\n",
       "    <tr>\n",
       "      <th>2</th>\n",
       "      <td>1582892149550</td>\n",
       "      <td>183.55615</td>\n",
       "      <td>-22.962630</td>\n",
       "      <td>-7.778291</td>\n",
       "    </tr>\n",
       "    <tr>\n",
       "      <th>3</th>\n",
       "      <td>1582892149570</td>\n",
       "      <td>183.67781</td>\n",
       "      <td>-22.410380</td>\n",
       "      <td>-7.610994</td>\n",
       "    </tr>\n",
       "    <tr>\n",
       "      <th>4</th>\n",
       "      <td>1582892149588</td>\n",
       "      <td>183.78986</td>\n",
       "      <td>-22.059351</td>\n",
       "      <td>-7.418176</td>\n",
       "    </tr>\n",
       "  </tbody>\n",
       "</table>\n",
       "</div>"
      ],
      "text/plain": [
       "      time_stamp        ori  Unnamed: 2  Unnamed: 3\n",
       "0  1582892149513  183.32074  -23.296076   -8.208767\n",
       "1  1582892149530  183.43580  -23.217299   -8.004543\n",
       "2  1582892149550  183.55615  -22.962630   -7.778291\n",
       "3  1582892149570  183.67781  -22.410380   -7.610994\n",
       "4  1582892149588  183.78986  -22.059351   -7.418176"
      ]
     },
     "execution_count": 37,
     "metadata": {},
     "output_type": "execute_result"
    }
   ],
   "source": [
    "data_test.head()"
   ]
  },
  {
   "cell_type": "code",
   "execution_count": 38,
   "metadata": {},
   "outputs": [],
   "source": [
    "x_train = data_train.drop('feature', axis=1)"
   ]
  },
  {
   "cell_type": "code",
   "execution_count": 39,
   "metadata": {},
   "outputs": [
    {
     "data": {
      "text/html": [
       "<div>\n",
       "<style scoped>\n",
       "    .dataframe tbody tr th:only-of-type {\n",
       "        vertical-align: middle;\n",
       "    }\n",
       "\n",
       "    .dataframe tbody tr th {\n",
       "        vertical-align: top;\n",
       "    }\n",
       "\n",
       "    .dataframe thead th {\n",
       "        text-align: right;\n",
       "    }\n",
       "</style>\n",
       "<table border=\"1\" class=\"dataframe\">\n",
       "  <thead>\n",
       "    <tr style=\"text-align: right;\">\n",
       "      <th></th>\n",
       "      <th>std</th>\n",
       "      <th>interquartilerange</th>\n",
       "      <th>range</th>\n",
       "      <th>variance</th>\n",
       "    </tr>\n",
       "  </thead>\n",
       "  <tbody>\n",
       "    <tr>\n",
       "      <th>0</th>\n",
       "      <td>1.893093</td>\n",
       "      <td>0.744145</td>\n",
       "      <td>6.10639</td>\n",
       "      <td>3.583801</td>\n",
       "    </tr>\n",
       "    <tr>\n",
       "      <th>1</th>\n",
       "      <td>12.137999</td>\n",
       "      <td>11.900842</td>\n",
       "      <td>45.21478</td>\n",
       "      <td>147.331026</td>\n",
       "    </tr>\n",
       "    <tr>\n",
       "      <th>2</th>\n",
       "      <td>3.861983</td>\n",
       "      <td>2.967290</td>\n",
       "      <td>13.48541</td>\n",
       "      <td>14.914914</td>\n",
       "    </tr>\n",
       "    <tr>\n",
       "      <th>3</th>\n",
       "      <td>2.806293</td>\n",
       "      <td>1.340335</td>\n",
       "      <td>10.49092</td>\n",
       "      <td>7.875282</td>\n",
       "    </tr>\n",
       "    <tr>\n",
       "      <th>4</th>\n",
       "      <td>4.436192</td>\n",
       "      <td>7.716569</td>\n",
       "      <td>11.91696</td>\n",
       "      <td>19.679798</td>\n",
       "    </tr>\n",
       "    <tr>\n",
       "      <th>...</th>\n",
       "      <td>...</td>\n",
       "      <td>...</td>\n",
       "      <td>...</td>\n",
       "      <td>...</td>\n",
       "    </tr>\n",
       "    <tr>\n",
       "      <th>71</th>\n",
       "      <td>1.828021</td>\n",
       "      <td>2.107568</td>\n",
       "      <td>6.60469</td>\n",
       "      <td>3.341661</td>\n",
       "    </tr>\n",
       "    <tr>\n",
       "      <th>72</th>\n",
       "      <td>7.065546</td>\n",
       "      <td>8.328740</td>\n",
       "      <td>26.64837</td>\n",
       "      <td>49.921942</td>\n",
       "    </tr>\n",
       "    <tr>\n",
       "      <th>73</th>\n",
       "      <td>3.707785</td>\n",
       "      <td>1.591082</td>\n",
       "      <td>13.11209</td>\n",
       "      <td>13.747673</td>\n",
       "    </tr>\n",
       "    <tr>\n",
       "      <th>74</th>\n",
       "      <td>4.342830</td>\n",
       "      <td>3.536580</td>\n",
       "      <td>11.63962</td>\n",
       "      <td>18.860171</td>\n",
       "    </tr>\n",
       "    <tr>\n",
       "      <th>75</th>\n",
       "      <td>8.206939</td>\n",
       "      <td>3.040640</td>\n",
       "      <td>26.18744</td>\n",
       "      <td>67.353840</td>\n",
       "    </tr>\n",
       "  </tbody>\n",
       "</table>\n",
       "<p>76 rows × 4 columns</p>\n",
       "</div>"
      ],
      "text/plain": [
       "          std  interquartilerange     range    variance\n",
       "0    1.893093            0.744145   6.10639    3.583801\n",
       "1   12.137999           11.900842  45.21478  147.331026\n",
       "2    3.861983            2.967290  13.48541   14.914914\n",
       "3    2.806293            1.340335  10.49092    7.875282\n",
       "4    4.436192            7.716569  11.91696   19.679798\n",
       "..        ...                 ...       ...         ...\n",
       "71   1.828021            2.107568   6.60469    3.341661\n",
       "72   7.065546            8.328740  26.64837   49.921942\n",
       "73   3.707785            1.591082  13.11209   13.747673\n",
       "74   4.342830            3.536580  11.63962   18.860171\n",
       "75   8.206939            3.040640  26.18744   67.353840\n",
       "\n",
       "[76 rows x 4 columns]"
      ]
     },
     "execution_count": 39,
     "metadata": {},
     "output_type": "execute_result"
    }
   ],
   "source": [
    "x_train"
   ]
  },
  {
   "cell_type": "code",
   "execution_count": 40,
   "metadata": {},
   "outputs": [],
   "source": [
    "y_train = data_train['feature']"
   ]
  },
  {
   "cell_type": "code",
   "execution_count": 41,
   "metadata": {},
   "outputs": [
    {
     "data": {
      "text/plain": [
       "0     0\n",
       "1     2\n",
       "2     0\n",
       "3     0\n",
       "4     0\n",
       "     ..\n",
       "71    0\n",
       "72    1\n",
       "73    0\n",
       "74    0\n",
       "75    1\n",
       "Name: feature, Length: 76, dtype: int64"
      ]
     },
     "execution_count": 41,
     "metadata": {},
     "output_type": "execute_result"
    }
   ],
   "source": [
    "y_train"
   ]
  },
  {
   "cell_type": "code",
   "execution_count": 42,
   "metadata": {},
   "outputs": [],
   "source": [
    "y_test = y_test['feature']"
   ]
  },
  {
   "cell_type": "code",
   "execution_count": 43,
   "metadata": {},
   "outputs": [
    {
     "data": {
      "text/plain": [
       "0     0\n",
       "1     0\n",
       "2     0\n",
       "3     0\n",
       "4     0\n",
       "5     0\n",
       "6     0\n",
       "7     2\n",
       "8     0\n",
       "9     1\n",
       "10    0\n",
       "11    0\n",
       "12    0\n",
       "13    0\n",
       "14    0\n",
       "15    0\n",
       "16    0\n",
       "17    2\n",
       "18    2\n",
       "19    0\n",
       "20    0\n",
       "21    0\n",
       "22    0\n",
       "23    0\n",
       "24    0\n",
       "25    0\n",
       "26    0\n",
       "27    0\n",
       "28    0\n",
       "29    0\n",
       "30    0\n",
       "31    0\n",
       "32    0\n",
       "Name: feature, dtype: int64"
      ]
     },
     "execution_count": 43,
     "metadata": {},
     "output_type": "execute_result"
    }
   ],
   "source": [
    "y_test"
   ]
  },
  {
   "cell_type": "code",
   "execution_count": 44,
   "metadata": {},
   "outputs": [
    {
     "data": {
      "text/html": [
       "<div>\n",
       "<style scoped>\n",
       "    .dataframe tbody tr th:only-of-type {\n",
       "        vertical-align: middle;\n",
       "    }\n",
       "\n",
       "    .dataframe tbody tr th {\n",
       "        vertical-align: top;\n",
       "    }\n",
       "\n",
       "    .dataframe thead th {\n",
       "        text-align: right;\n",
       "    }\n",
       "</style>\n",
       "<table border=\"1\" class=\"dataframe\">\n",
       "  <thead>\n",
       "    <tr style=\"text-align: right;\">\n",
       "      <th></th>\n",
       "      <th>time_stamp</th>\n",
       "      <th>ori</th>\n",
       "      <th>Unnamed: 2</th>\n",
       "      <th>Unnamed: 3</th>\n",
       "    </tr>\n",
       "  </thead>\n",
       "  <tbody>\n",
       "    <tr>\n",
       "      <th>0</th>\n",
       "      <td>1582892149513</td>\n",
       "      <td>183.32074</td>\n",
       "      <td>-23.296076</td>\n",
       "      <td>-8.208767</td>\n",
       "    </tr>\n",
       "    <tr>\n",
       "      <th>1</th>\n",
       "      <td>1582892149530</td>\n",
       "      <td>183.43580</td>\n",
       "      <td>-23.217299</td>\n",
       "      <td>-8.004543</td>\n",
       "    </tr>\n",
       "    <tr>\n",
       "      <th>2</th>\n",
       "      <td>1582892149550</td>\n",
       "      <td>183.55615</td>\n",
       "      <td>-22.962630</td>\n",
       "      <td>-7.778291</td>\n",
       "    </tr>\n",
       "    <tr>\n",
       "      <th>3</th>\n",
       "      <td>1582892149570</td>\n",
       "      <td>183.67781</td>\n",
       "      <td>-22.410380</td>\n",
       "      <td>-7.610994</td>\n",
       "    </tr>\n",
       "    <tr>\n",
       "      <th>4</th>\n",
       "      <td>1582892149588</td>\n",
       "      <td>183.78986</td>\n",
       "      <td>-22.059351</td>\n",
       "      <td>-7.418176</td>\n",
       "    </tr>\n",
       "    <tr>\n",
       "      <th>...</th>\n",
       "      <td>...</td>\n",
       "      <td>...</td>\n",
       "      <td>...</td>\n",
       "      <td>...</td>\n",
       "    </tr>\n",
       "    <tr>\n",
       "      <th>3242</th>\n",
       "      <td>1582892211669</td>\n",
       "      <td>247.86797</td>\n",
       "      <td>-12.165248</td>\n",
       "      <td>-4.408528</td>\n",
       "    </tr>\n",
       "    <tr>\n",
       "      <th>3243</th>\n",
       "      <td>1582892211688</td>\n",
       "      <td>247.90600</td>\n",
       "      <td>-12.178048</td>\n",
       "      <td>-4.348655</td>\n",
       "    </tr>\n",
       "    <tr>\n",
       "      <th>3244</th>\n",
       "      <td>1582892211709</td>\n",
       "      <td>247.95145</td>\n",
       "      <td>-12.298545</td>\n",
       "      <td>-4.349805</td>\n",
       "    </tr>\n",
       "    <tr>\n",
       "      <th>3245</th>\n",
       "      <td>1582892211729</td>\n",
       "      <td>248.02710</td>\n",
       "      <td>-12.533242</td>\n",
       "      <td>-4.275261</td>\n",
       "    </tr>\n",
       "    <tr>\n",
       "      <th>3246</th>\n",
       "      <td>1582892211746</td>\n",
       "      <td>248.04599</td>\n",
       "      <td>-12.733354</td>\n",
       "      <td>-4.380196</td>\n",
       "    </tr>\n",
       "  </tbody>\n",
       "</table>\n",
       "<p>3247 rows × 4 columns</p>\n",
       "</div>"
      ],
      "text/plain": [
       "         time_stamp        ori  Unnamed: 2  Unnamed: 3\n",
       "0     1582892149513  183.32074  -23.296076   -8.208767\n",
       "1     1582892149530  183.43580  -23.217299   -8.004543\n",
       "2     1582892149550  183.55615  -22.962630   -7.778291\n",
       "3     1582892149570  183.67781  -22.410380   -7.610994\n",
       "4     1582892149588  183.78986  -22.059351   -7.418176\n",
       "...             ...        ...         ...         ...\n",
       "3242  1582892211669  247.86797  -12.165248   -4.408528\n",
       "3243  1582892211688  247.90600  -12.178048   -4.348655\n",
       "3244  1582892211709  247.95145  -12.298545   -4.349805\n",
       "3245  1582892211729  248.02710  -12.533242   -4.275261\n",
       "3246  1582892211746  248.04599  -12.733354   -4.380196\n",
       "\n",
       "[3247 rows x 4 columns]"
      ]
     },
     "execution_count": 44,
     "metadata": {},
     "output_type": "execute_result"
    }
   ],
   "source": [
    "data_test"
   ]
  },
  {
   "cell_type": "code",
   "execution_count": 45,
   "metadata": {},
   "outputs": [],
   "source": [
    "# Dividing the data into windows\n",
    "time_stamp_windows = []\n",
    "\n",
    "last = len(data_test) // 100\n",
    "\n",
    "for i in range(last):\n",
    "    time_stamp_windows.append(data_test.iloc[i*100:i*100+100]['time_stamp'])\n",
    "    \n",
    "time_stamp_windows.append(data_test.iloc[last*100:-1]['time_stamp'])"
   ]
  },
  {
   "cell_type": "code",
   "execution_count": 46,
   "metadata": {},
   "outputs": [],
   "source": [
    "# Dividing the data 'ori' column into windows\n",
    "windows = []\n",
    "\n",
    "last = len(data_test) // 100\n",
    "\n",
    "for i in range(last):\n",
    "    windows.append(data_test.iloc[i*100:i*100+100]['ori'])\n",
    "    \n",
    "windows.append(data_test.iloc[last*100:-1]['ori'])"
   ]
  },
  {
   "cell_type": "code",
   "execution_count": 47,
   "metadata": {},
   "outputs": [
    {
     "data": {
      "text/plain": [
       "33"
      ]
     },
     "execution_count": 47,
     "metadata": {},
     "output_type": "execute_result"
    }
   ],
   "source": [
    "len(windows)"
   ]
  },
  {
   "cell_type": "code",
   "execution_count": 48,
   "metadata": {},
   "outputs": [],
   "source": [
    "firstquart = []\n",
    "secondquart = []\n",
    "thirdquart = []\n",
    "for var in windows: \n",
    "    var1quart = var.quantile(.25)\n",
    "    var2quart = var.quantile(.5)\n",
    "    var3quart = var.quantile(.75)\n",
    "    firstquart.append(var1quart.transpose())\n",
    "    secondquart.append(var2quart.transpose())\n",
    "    thirdquart.append(var2quart.transpose())\n",
    "    "
   ]
  },
  {
   "cell_type": "code",
   "execution_count": 49,
   "metadata": {},
   "outputs": [],
   "source": [
    "i=1\n",
    "for x in windows:\n",
    "    y=x\n",
    "    y.to_excel('/home/surbhi/deadline_project/sensor_data_collection/oneplus3/data_test_window/window'+str(i)+'.xlsx')\n",
    "    y = x.describe()\n",
    "    y['interquartilerange'] = thirdquart[i-1] - firstquart[i-1]\n",
    "    y['range'] = y['max'] - y['min']\n",
    "    y['variance'] = y['std']**2\n",
    "    y.to_excel('/home/surbhi/deadline_project/sensor_data_collection/oneplus3/data_test_feature/feature'+str(i)+'.xlsx')\n",
    "    i+=1\n"
   ]
  },
  {
   "cell_type": "code",
   "execution_count": 50,
   "metadata": {},
   "outputs": [
    {
     "data": {
      "text/plain": [
       "count                  46.000000\n",
       "mean                  247.547621\n",
       "std                     0.373976\n",
       "min                   246.874150\n",
       "25%                   247.114370\n",
       "50%                   247.742180\n",
       "75%                   247.821240\n",
       "max                   248.027100\n",
       "interquartilerange      0.627810\n",
       "range                   1.152950\n",
       "variance                0.139858\n",
       "Name: ori, dtype: float64"
      ]
     },
     "execution_count": 50,
     "metadata": {},
     "output_type": "execute_result"
    }
   ],
   "source": [
    "y"
   ]
  },
  {
   "cell_type": "code",
   "execution_count": 51,
   "metadata": {},
   "outputs": [],
   "source": [
    "from sklearn.ensemble import RandomForestClassifier"
   ]
  },
  {
   "cell_type": "code",
   "execution_count": 52,
   "metadata": {},
   "outputs": [],
   "source": [
    "predictions = []\n",
    "for i in range(1,len(windows)+1):\n",
    "    df = pd.read_excel('/home/surbhi/deadline_project/sensor_data_collection/oneplus3/feature/feature'+str(i)+'.xlsx')\n",
    "    dff = pd.DataFrame(pd.Series({'std':df.loc[2,'ori'],'interquartilerange':df.loc[8,'ori'],'range':df.loc[9,'ori'], 'variance':df.loc[10,'ori']}))\n",
    "    x_test=dff.transpose()\n",
    "    #df.drop([0,1,3,4,5,6,7],inplace=True) \n",
    "    #temp1 = df['ori']\n",
    "    #x_test = pd.DataFrame(temp1)\n",
    "    #x_test = np.reshape(temp, (1, -1))\n",
    "    rfc = RandomForestClassifier(n_estimators=100)\n",
    "    rfc.fit(x_train, y_train)\n",
    "    predictions.append(rfc.predict(x_test)[0])"
   ]
  },
  {
   "cell_type": "code",
   "execution_count": 53,
   "metadata": {},
   "outputs": [
    {
     "data": {
      "text/plain": [
       "[0,\n",
       " 0,\n",
       " 1,\n",
       " 0,\n",
       " 0,\n",
       " 0,\n",
       " 0,\n",
       " 1,\n",
       " 0,\n",
       " 2,\n",
       " 0,\n",
       " 0,\n",
       " 0,\n",
       " 0,\n",
       " 0,\n",
       " 0,\n",
       " 0,\n",
       " 1,\n",
       " 2,\n",
       " 0,\n",
       " 0,\n",
       " 0,\n",
       " 0,\n",
       " 0,\n",
       " 0,\n",
       " 0,\n",
       " 0,\n",
       " 0,\n",
       " 0,\n",
       " 0,\n",
       " 0,\n",
       " 0,\n",
       " 0]"
      ]
     },
     "execution_count": 53,
     "metadata": {},
     "output_type": "execute_result"
    }
   ],
   "source": [
    "predictions"
   ]
  },
  {
   "cell_type": "code",
   "execution_count": 54,
   "metadata": {},
   "outputs": [],
   "source": [
    "from sklearn.metrics import classification_report,confusion_matrix"
   ]
  },
  {
   "cell_type": "code",
   "execution_count": 55,
   "metadata": {},
   "outputs": [
    {
     "name": "stdout",
     "output_type": "stream",
     "text": [
      "              precision    recall  f1-score   support\n",
      "\n",
      "           0       1.00      0.97      0.98        29\n",
      "           1       0.00      0.00      0.00         1\n",
      "           2       0.50      0.33      0.40         3\n",
      "\n",
      "    accuracy                           0.88        33\n",
      "   macro avg       0.50      0.43      0.46        33\n",
      "weighted avg       0.92      0.88      0.90        33\n",
      "\n"
     ]
    }
   ],
   "source": [
    "print(classification_report(y_test,predictions))"
   ]
  },
  {
   "cell_type": "code",
   "execution_count": 56,
   "metadata": {},
   "outputs": [
    {
     "name": "stdout",
     "output_type": "stream",
     "text": [
      "[[28  1  0]\n",
      " [ 0  0  1]\n",
      " [ 0  2  1]]\n"
     ]
    }
   ],
   "source": [
    "print(confusion_matrix(y_test,predictions))"
   ]
  },
  {
   "cell_type": "code",
   "execution_count": 57,
   "metadata": {},
   "outputs": [],
   "source": [
    "marker = ['N']*len(windows)"
   ]
  },
  {
   "cell_type": "code",
   "execution_count": 58,
   "metadata": {},
   "outputs": [],
   "source": [
    "j =0\n",
    "for i in predictions:\n",
    "    if i == 1:\n",
    "        marker[j] = 'T'\n",
    "    j=j+1\n",
    "    "
   ]
  },
  {
   "cell_type": "code",
   "execution_count": 59,
   "metadata": {},
   "outputs": [],
   "source": [
    "font_dict = {'family':'serif', 'color':'darkred', 'size':15 }"
   ]
  },
  {
   "cell_type": "code",
   "execution_count": 60,
   "metadata": {},
   "outputs": [
    {
     "data": {
      "image/png": "[encoded data removed]",
      "text/plain": [
       "<Figure size 1080x432 with 1 Axes>"
      ]
     },
     "metadata": {
      "needs_background": "light"
     },
     "output_type": "display_data"
    }
   ],
   "source": [
    "plt.figure(figsize = (15,6))\n",
    "plt.plot(data_test['time_stamp'], data_test['ori'])\n",
    "for i in range(len(marker)):\n",
    "    plt.text(time_stamp_windows[i].iloc[0]+50, 200, marker[i], fontdict = font_dict)\n",
    "plt.show()"
   ]
  },
  {
   "cell_type": "code",
   "execution_count": null,
   "metadata": {},
   "outputs": [],
   "source": []
  }
 ],
 "metadata": {
  "kernelspec": {
   "display_name": "Python 3",
   "language": "python",
   "name": "python3"
  },
  "language_info": {
   "codemirror_mode": {
    "name": "ipython",
    "version": 3
   },
   "file_extension": ".py",
   "mimetype": "text/x-python",
   "name": "python",
   "nbconvert_exporter": "python",
   "pygments_lexer": "ipython3",
   "version": "3.7.7"
  }
 },
 "nbformat": 4,
 "nbformat_minor": 4
}
