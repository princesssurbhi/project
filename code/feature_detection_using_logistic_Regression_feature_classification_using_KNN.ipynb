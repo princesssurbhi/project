{
 "cells": [
  {
   "cell_type": "code",
   "execution_count": 384,
   "metadata": {},
   "outputs": [],
   "source": [
    "import numpy as np\n",
    "import pandas as pd\n",
    "import matplotlib.pyplot as plt\n",
    "import seaborn as sns\n",
    "%matplotlib inline"
   ]
  },
  {
   "cell_type": "code",
   "execution_count": 385,
   "metadata": {},
   "outputs": [],
   "source": [
    "data_train = pd.read_excel('/home/surbhi/deadline_project/sensor_data_collection/oneplus3/training_set_for_turn_detection.xlsx')"
   ]
  },
  {
   "cell_type": "code",
   "execution_count": 386,
   "metadata": {},
   "outputs": [],
   "source": [
    "data_test = pd.read_csv('/home/surbhi/deadline_project/sensor_data_collection/oneplus3/test.csv')"
   ]
  },
  {
   "cell_type": "code",
   "execution_count": 387,
   "metadata": {},
   "outputs": [],
   "source": [
    "y_test = pd.read_excel('/home/surbhi/deadline_project/sensor_data_collection/oneplus3/y_test.xlsx')"
   ]
  },
  {
   "cell_type": "code",
   "execution_count": 388,
   "metadata": {},
   "outputs": [],
   "source": [
    "data_train_classification = pd.read_excel('/home/surbhi/deadline_project/sensor_data_collection/oneplus3/training_set_for_turn_classification.xlsx')"
   ]
  },
  {
   "cell_type": "code",
   "execution_count": 389,
   "metadata": {},
   "outputs": [
    {
     "data": {
      "text/html": [
       "<div>\n",
       "<style scoped>\n",
       "    .dataframe tbody tr th:only-of-type {\n",
       "        vertical-align: middle;\n",
       "    }\n",
       "\n",
       "    .dataframe tbody tr th {\n",
       "        vertical-align: top;\n",
       "    }\n",
       "\n",
       "    .dataframe thead th {\n",
       "        text-align: right;\n",
       "    }\n",
       "</style>\n",
       "<table border=\"1\" class=\"dataframe\">\n",
       "  <thead>\n",
       "    <tr style=\"text-align: right;\">\n",
       "      <th></th>\n",
       "      <th>std</th>\n",
       "      <th>interquartilerange</th>\n",
       "      <th>range</th>\n",
       "      <th>variance</th>\n",
       "      <th>feature</th>\n",
       "    </tr>\n",
       "  </thead>\n",
       "  <tbody>\n",
       "    <tr>\n",
       "      <th>0</th>\n",
       "      <td>1.893093</td>\n",
       "      <td>0.744145</td>\n",
       "      <td>6.10639</td>\n",
       "      <td>3.583801</td>\n",
       "      <td>0</td>\n",
       "    </tr>\n",
       "    <tr>\n",
       "      <th>1</th>\n",
       "      <td>12.137999</td>\n",
       "      <td>11.900842</td>\n",
       "      <td>45.21478</td>\n",
       "      <td>147.331026</td>\n",
       "      <td>1</td>\n",
       "    </tr>\n",
       "    <tr>\n",
       "      <th>2</th>\n",
       "      <td>3.861983</td>\n",
       "      <td>2.967290</td>\n",
       "      <td>13.48541</td>\n",
       "      <td>14.914914</td>\n",
       "      <td>0</td>\n",
       "    </tr>\n",
       "    <tr>\n",
       "      <th>3</th>\n",
       "      <td>2.806293</td>\n",
       "      <td>1.340335</td>\n",
       "      <td>10.49092</td>\n",
       "      <td>7.875282</td>\n",
       "      <td>0</td>\n",
       "    </tr>\n",
       "    <tr>\n",
       "      <th>4</th>\n",
       "      <td>4.436192</td>\n",
       "      <td>7.716569</td>\n",
       "      <td>11.91696</td>\n",
       "      <td>19.679798</td>\n",
       "      <td>0</td>\n",
       "    </tr>\n",
       "  </tbody>\n",
       "</table>\n",
       "</div>"
      ],
      "text/plain": [
       "         std  interquartilerange     range    variance  feature\n",
       "0   1.893093            0.744145   6.10639    3.583801        0\n",
       "1  12.137999           11.900842  45.21478  147.331026        1\n",
       "2   3.861983            2.967290  13.48541   14.914914        0\n",
       "3   2.806293            1.340335  10.49092    7.875282        0\n",
       "4   4.436192            7.716569  11.91696   19.679798        0"
      ]
     },
     "execution_count": 389,
     "metadata": {},
     "output_type": "execute_result"
    }
   ],
   "source": [
    "data_train.head()"
   ]
  },
  {
   "cell_type": "code",
   "execution_count": 390,
   "metadata": {},
   "outputs": [
    {
     "data": {
      "text/html": [
       "<div>\n",
       "<style scoped>\n",
       "    .dataframe tbody tr th:only-of-type {\n",
       "        vertical-align: middle;\n",
       "    }\n",
       "\n",
       "    .dataframe tbody tr th {\n",
       "        vertical-align: top;\n",
       "    }\n",
       "\n",
       "    .dataframe thead th {\n",
       "        text-align: right;\n",
       "    }\n",
       "</style>\n",
       "<table border=\"1\" class=\"dataframe\">\n",
       "  <thead>\n",
       "    <tr style=\"text-align: right;\">\n",
       "      <th></th>\n",
       "      <th>time_stamp</th>\n",
       "      <th>ori</th>\n",
       "      <th>Unnamed: 2</th>\n",
       "      <th>Unnamed: 3</th>\n",
       "    </tr>\n",
       "  </thead>\n",
       "  <tbody>\n",
       "    <tr>\n",
       "      <th>0</th>\n",
       "      <td>1582892149513</td>\n",
       "      <td>183.32074</td>\n",
       "      <td>-23.296076</td>\n",
       "      <td>-8.208767</td>\n",
       "    </tr>\n",
       "    <tr>\n",
       "      <th>1</th>\n",
       "      <td>1582892149530</td>\n",
       "      <td>183.43580</td>\n",
       "      <td>-23.217299</td>\n",
       "      <td>-8.004543</td>\n",
       "    </tr>\n",
       "    <tr>\n",
       "      <th>2</th>\n",
       "      <td>1582892149550</td>\n",
       "      <td>183.55615</td>\n",
       "      <td>-22.962630</td>\n",
       "      <td>-7.778291</td>\n",
       "    </tr>\n",
       "    <tr>\n",
       "      <th>3</th>\n",
       "      <td>1582892149570</td>\n",
       "      <td>183.67781</td>\n",
       "      <td>-22.410380</td>\n",
       "      <td>-7.610994</td>\n",
       "    </tr>\n",
       "    <tr>\n",
       "      <th>4</th>\n",
       "      <td>1582892149588</td>\n",
       "      <td>183.78986</td>\n",
       "      <td>-22.059351</td>\n",
       "      <td>-7.418176</td>\n",
       "    </tr>\n",
       "  </tbody>\n",
       "</table>\n",
       "</div>"
      ],
      "text/plain": [
       "      time_stamp        ori  Unnamed: 2  Unnamed: 3\n",
       "0  1582892149513  183.32074  -23.296076   -8.208767\n",
       "1  1582892149530  183.43580  -23.217299   -8.004543\n",
       "2  1582892149550  183.55615  -22.962630   -7.778291\n",
       "3  1582892149570  183.67781  -22.410380   -7.610994\n",
       "4  1582892149588  183.78986  -22.059351   -7.418176"
      ]
     },
     "execution_count": 390,
     "metadata": {},
     "output_type": "execute_result"
    }
   ],
   "source": [
    "data_test.head()"
   ]
  },
  {
   "cell_type": "code",
   "execution_count": 391,
   "metadata": {},
   "outputs": [],
   "source": [
    "x_train = data_train.drop('feature', axis=1)"
   ]
  },
  {
   "cell_type": "code",
   "execution_count": 392,
   "metadata": {},
   "outputs": [
    {
     "data": {
      "text/html": [
       "<div>\n",
       "<style scoped>\n",
       "    .dataframe tbody tr th:only-of-type {\n",
       "        vertical-align: middle;\n",
       "    }\n",
       "\n",
       "    .dataframe tbody tr th {\n",
       "        vertical-align: top;\n",
       "    }\n",
       "\n",
       "    .dataframe thead th {\n",
       "        text-align: right;\n",
       "    }\n",
       "</style>\n",
       "<table border=\"1\" class=\"dataframe\">\n",
       "  <thead>\n",
       "    <tr style=\"text-align: right;\">\n",
       "      <th></th>\n",
       "      <th>std</th>\n",
       "      <th>interquartilerange</th>\n",
       "      <th>range</th>\n",
       "      <th>variance</th>\n",
       "    </tr>\n",
       "  </thead>\n",
       "  <tbody>\n",
       "    <tr>\n",
       "      <th>0</th>\n",
       "      <td>1.893093</td>\n",
       "      <td>0.744145</td>\n",
       "      <td>6.10639</td>\n",
       "      <td>3.583801</td>\n",
       "    </tr>\n",
       "    <tr>\n",
       "      <th>1</th>\n",
       "      <td>12.137999</td>\n",
       "      <td>11.900842</td>\n",
       "      <td>45.21478</td>\n",
       "      <td>147.331026</td>\n",
       "    </tr>\n",
       "    <tr>\n",
       "      <th>2</th>\n",
       "      <td>3.861983</td>\n",
       "      <td>2.967290</td>\n",
       "      <td>13.48541</td>\n",
       "      <td>14.914914</td>\n",
       "    </tr>\n",
       "    <tr>\n",
       "      <th>3</th>\n",
       "      <td>2.806293</td>\n",
       "      <td>1.340335</td>\n",
       "      <td>10.49092</td>\n",
       "      <td>7.875282</td>\n",
       "    </tr>\n",
       "    <tr>\n",
       "      <th>4</th>\n",
       "      <td>4.436192</td>\n",
       "      <td>7.716569</td>\n",
       "      <td>11.91696</td>\n",
       "      <td>19.679798</td>\n",
       "    </tr>\n",
       "    <tr>\n",
       "      <th>...</th>\n",
       "      <td>...</td>\n",
       "      <td>...</td>\n",
       "      <td>...</td>\n",
       "      <td>...</td>\n",
       "    </tr>\n",
       "    <tr>\n",
       "      <th>76</th>\n",
       "      <td>0.404348</td>\n",
       "      <td>0.373337</td>\n",
       "      <td>1.47731</td>\n",
       "      <td>0.163497</td>\n",
       "    </tr>\n",
       "    <tr>\n",
       "      <th>77</th>\n",
       "      <td>1.453080</td>\n",
       "      <td>1.583342</td>\n",
       "      <td>4.87724</td>\n",
       "      <td>2.111441</td>\n",
       "    </tr>\n",
       "    <tr>\n",
       "      <th>78</th>\n",
       "      <td>0.853801</td>\n",
       "      <td>0.680217</td>\n",
       "      <td>2.70630</td>\n",
       "      <td>0.728977</td>\n",
       "    </tr>\n",
       "    <tr>\n",
       "      <th>79</th>\n",
       "      <td>7.509932</td>\n",
       "      <td>8.070282</td>\n",
       "      <td>21.75329</td>\n",
       "      <td>56.399084</td>\n",
       "    </tr>\n",
       "    <tr>\n",
       "      <th>80</th>\n",
       "      <td>15.862670</td>\n",
       "      <td>11.052170</td>\n",
       "      <td>57.05957</td>\n",
       "      <td>251.624292</td>\n",
       "    </tr>\n",
       "  </tbody>\n",
       "</table>\n",
       "<p>81 rows × 4 columns</p>\n",
       "</div>"
      ],
      "text/plain": [
       "          std  interquartilerange     range    variance\n",
       "0    1.893093            0.744145   6.10639    3.583801\n",
       "1   12.137999           11.900842  45.21478  147.331026\n",
       "2    3.861983            2.967290  13.48541   14.914914\n",
       "3    2.806293            1.340335  10.49092    7.875282\n",
       "4    4.436192            7.716569  11.91696   19.679798\n",
       "..        ...                 ...       ...         ...\n",
       "76   0.404348            0.373337   1.47731    0.163497\n",
       "77   1.453080            1.583342   4.87724    2.111441\n",
       "78   0.853801            0.680217   2.70630    0.728977\n",
       "79   7.509932            8.070282  21.75329   56.399084\n",
       "80  15.862670           11.052170  57.05957  251.624292\n",
       "\n",
       "[81 rows x 4 columns]"
      ]
     },
     "execution_count": 392,
     "metadata": {},
     "output_type": "execute_result"
    }
   ],
   "source": [
    "x_train"
   ]
  },
  {
   "cell_type": "code",
   "execution_count": 393,
   "metadata": {},
   "outputs": [],
   "source": [
    "y_train = data_train['feature']"
   ]
  },
  {
   "cell_type": "code",
   "execution_count": 394,
   "metadata": {},
   "outputs": [
    {
     "data": {
      "text/plain": [
       "0     0\n",
       "1     1\n",
       "2     0\n",
       "3     0\n",
       "4     0\n",
       "     ..\n",
       "76    0\n",
       "77    0\n",
       "78    0\n",
       "79    1\n",
       "80    1\n",
       "Name: feature, Length: 81, dtype: int64"
      ]
     },
     "execution_count": 394,
     "metadata": {},
     "output_type": "execute_result"
    }
   ],
   "source": [
    "y_train"
   ]
  },
  {
   "cell_type": "code",
   "execution_count": 395,
   "metadata": {},
   "outputs": [],
   "source": [
    "y_test = y_test['feature']"
   ]
  },
  {
   "cell_type": "code",
   "execution_count": 396,
   "metadata": {},
   "outputs": [
    {
     "data": {
      "text/plain": [
       "0     0\n",
       "1     0\n",
       "2     0\n",
       "3     0\n",
       "4     0\n",
       "5     0\n",
       "6     0\n",
       "7     1\n",
       "8     0\n",
       "9     1\n",
       "10    0\n",
       "11    0\n",
       "12    0\n",
       "13    0\n",
       "14    0\n",
       "15    0\n",
       "16    0\n",
       "17    1\n",
       "18    1\n",
       "19    0\n",
       "20    0\n",
       "21    0\n",
       "22    0\n",
       "23    0\n",
       "24    0\n",
       "25    0\n",
       "26    0\n",
       "27    0\n",
       "28    0\n",
       "29    0\n",
       "30    0\n",
       "31    0\n",
       "32    0\n",
       "Name: feature, dtype: int64"
      ]
     },
     "execution_count": 396,
     "metadata": {},
     "output_type": "execute_result"
    }
   ],
   "source": [
    "y_test"
   ]
  },
  {
   "cell_type": "code",
   "execution_count": 397,
   "metadata": {},
   "outputs": [
    {
     "data": {
      "text/html": [
       "<div>\n",
       "<style scoped>\n",
       "    .dataframe tbody tr th:only-of-type {\n",
       "        vertical-align: middle;\n",
       "    }\n",
       "\n",
       "    .dataframe tbody tr th {\n",
       "        vertical-align: top;\n",
       "    }\n",
       "\n",
       "    .dataframe thead th {\n",
       "        text-align: right;\n",
       "    }\n",
       "</style>\n",
       "<table border=\"1\" class=\"dataframe\">\n",
       "  <thead>\n",
       "    <tr style=\"text-align: right;\">\n",
       "      <th></th>\n",
       "      <th>time_stamp</th>\n",
       "      <th>ori</th>\n",
       "      <th>Unnamed: 2</th>\n",
       "      <th>Unnamed: 3</th>\n",
       "    </tr>\n",
       "  </thead>\n",
       "  <tbody>\n",
       "    <tr>\n",
       "      <th>0</th>\n",
       "      <td>1582892149513</td>\n",
       "      <td>183.32074</td>\n",
       "      <td>-23.296076</td>\n",
       "      <td>-8.208767</td>\n",
       "    </tr>\n",
       "    <tr>\n",
       "      <th>1</th>\n",
       "      <td>1582892149530</td>\n",
       "      <td>183.43580</td>\n",
       "      <td>-23.217299</td>\n",
       "      <td>-8.004543</td>\n",
       "    </tr>\n",
       "    <tr>\n",
       "      <th>2</th>\n",
       "      <td>1582892149550</td>\n",
       "      <td>183.55615</td>\n",
       "      <td>-22.962630</td>\n",
       "      <td>-7.778291</td>\n",
       "    </tr>\n",
       "    <tr>\n",
       "      <th>3</th>\n",
       "      <td>1582892149570</td>\n",
       "      <td>183.67781</td>\n",
       "      <td>-22.410380</td>\n",
       "      <td>-7.610994</td>\n",
       "    </tr>\n",
       "    <tr>\n",
       "      <th>4</th>\n",
       "      <td>1582892149588</td>\n",
       "      <td>183.78986</td>\n",
       "      <td>-22.059351</td>\n",
       "      <td>-7.418176</td>\n",
       "    </tr>\n",
       "    <tr>\n",
       "      <th>...</th>\n",
       "      <td>...</td>\n",
       "      <td>...</td>\n",
       "      <td>...</td>\n",
       "      <td>...</td>\n",
       "    </tr>\n",
       "    <tr>\n",
       "      <th>3242</th>\n",
       "      <td>1582892211669</td>\n",
       "      <td>247.86797</td>\n",
       "      <td>-12.165248</td>\n",
       "      <td>-4.408528</td>\n",
       "    </tr>\n",
       "    <tr>\n",
       "      <th>3243</th>\n",
       "      <td>1582892211688</td>\n",
       "      <td>247.90600</td>\n",
       "      <td>-12.178048</td>\n",
       "      <td>-4.348655</td>\n",
       "    </tr>\n",
       "    <tr>\n",
       "      <th>3244</th>\n",
       "      <td>1582892211709</td>\n",
       "      <td>247.95145</td>\n",
       "      <td>-12.298545</td>\n",
       "      <td>-4.349805</td>\n",
       "    </tr>\n",
       "    <tr>\n",
       "      <th>3245</th>\n",
       "      <td>1582892211729</td>\n",
       "      <td>248.02710</td>\n",
       "      <td>-12.533242</td>\n",
       "      <td>-4.275261</td>\n",
       "    </tr>\n",
       "    <tr>\n",
       "      <th>3246</th>\n",
       "      <td>1582892211746</td>\n",
       "      <td>248.04599</td>\n",
       "      <td>-12.733354</td>\n",
       "      <td>-4.380196</td>\n",
       "    </tr>\n",
       "  </tbody>\n",
       "</table>\n",
       "<p>3247 rows × 4 columns</p>\n",
       "</div>"
      ],
      "text/plain": [
       "         time_stamp        ori  Unnamed: 2  Unnamed: 3\n",
       "0     1582892149513  183.32074  -23.296076   -8.208767\n",
       "1     1582892149530  183.43580  -23.217299   -8.004543\n",
       "2     1582892149550  183.55615  -22.962630   -7.778291\n",
       "3     1582892149570  183.67781  -22.410380   -7.610994\n",
       "4     1582892149588  183.78986  -22.059351   -7.418176\n",
       "...             ...        ...         ...         ...\n",
       "3242  1582892211669  247.86797  -12.165248   -4.408528\n",
       "3243  1582892211688  247.90600  -12.178048   -4.348655\n",
       "3244  1582892211709  247.95145  -12.298545   -4.349805\n",
       "3245  1582892211729  248.02710  -12.533242   -4.275261\n",
       "3246  1582892211746  248.04599  -12.733354   -4.380196\n",
       "\n",
       "[3247 rows x 4 columns]"
      ]
     },
     "execution_count": 397,
     "metadata": {},
     "output_type": "execute_result"
    }
   ],
   "source": [
    "data_test"
   ]
  },
  {
   "cell_type": "code",
   "execution_count": 398,
   "metadata": {},
   "outputs": [],
   "source": [
    "# Dividing the data into windows\n",
    "time_stamp_windows = []\n",
    "\n",
    "last = len(data_test) // 100\n",
    "\n",
    "for i in range(last):\n",
    "    time_stamp_windows.append(data_test.iloc[i*100:i*100+100]['time_stamp'])\n",
    "    \n",
    "time_stamp_windows.append(data_test.iloc[last*100:-1]['time_stamp'])"
   ]
  },
  {
   "cell_type": "code",
   "execution_count": 399,
   "metadata": {},
   "outputs": [],
   "source": [
    "# Dividing the data 'ori' column into windows\n",
    "windows = []\n",
    "\n",
    "last = len(data_test) // 100\n",
    "\n",
    "for i in range(last):\n",
    "    windows.append(data_test.iloc[i*100:i*100+100]['ori'])\n",
    "    \n",
    "windows.append(data_test.iloc[last*100:-1]['ori'])"
   ]
  },
  {
   "cell_type": "code",
   "execution_count": 400,
   "metadata": {},
   "outputs": [
    {
     "data": {
      "text/plain": [
       "33"
      ]
     },
     "execution_count": 400,
     "metadata": {},
     "output_type": "execute_result"
    }
   ],
   "source": [
    "len(windows)"
   ]
  },
  {
   "cell_type": "code",
   "execution_count": 401,
   "metadata": {},
   "outputs": [],
   "source": [
    "firstquart = []\n",
    "secondquart = []\n",
    "thirdquart = []\n",
    "for var in windows: \n",
    "    var1quart = var.quantile(.25)\n",
    "    var2quart = var.quantile(.5)\n",
    "    var3quart = var.quantile(.75)\n",
    "    firstquart.append(var1quart.transpose())\n",
    "    secondquart.append(var2quart.transpose())\n",
    "    thirdquart.append(var2quart.transpose())\n",
    "    "
   ]
  },
  {
   "cell_type": "code",
   "execution_count": 402,
   "metadata": {},
   "outputs": [],
   "source": [
    "i=1\n",
    "for x in windows:\n",
    "    y=x\n",
    "    y.to_excel('/home/surbhi/deadline_project/sensor_data_collection/oneplus3/window/window'+str(i)+'.xlsx')\n",
    "    y = x.describe()\n",
    "    y['interquartilerange'] = thirdquart[i-1] - firstquart[i-1]\n",
    "    y['range'] = y['max'] - y['min']\n",
    "    y['variance'] = y['std']**2\n",
    "    y.to_excel('/home/surbhi/deadline_project/sensor_data_collection/oneplus3/feature/feature'+str(i)+'.xlsx')\n",
    "    i+=1\n"
   ]
  },
  {
   "cell_type": "code",
   "execution_count": 403,
   "metadata": {},
   "outputs": [
    {
     "data": {
      "text/plain": [
       "count                  46.000000\n",
       "mean                  247.547621\n",
       "std                     0.373976\n",
       "min                   246.874150\n",
       "25%                   247.114370\n",
       "50%                   247.742180\n",
       "75%                   247.821240\n",
       "max                   248.027100\n",
       "interquartilerange      0.627810\n",
       "range                   1.152950\n",
       "variance                0.139858\n",
       "Name: ori, dtype: float64"
      ]
     },
     "execution_count": 403,
     "metadata": {},
     "output_type": "execute_result"
    }
   ],
   "source": [
    "y"
   ]
  },
  {
   "cell_type": "code",
   "execution_count": 404,
   "metadata": {},
   "outputs": [],
   "source": [
    "#detection_using_Logistic_Regression"
   ]
  },
  {
   "cell_type": "code",
   "execution_count": 405,
   "metadata": {},
   "outputs": [],
   "source": [
    "from sklearn.linear_model import LogisticRegression"
   ]
  },
  {
   "cell_type": "code",
   "execution_count": 406,
   "metadata": {},
   "outputs": [
    {
     "data": {
      "text/plain": [
       "LogisticRegression(C=1.0, class_weight=None, dual=False, fit_intercept=True,\n",
       "                   intercept_scaling=1, l1_ratio=None, max_iter=100,\n",
       "                   multi_class='auto', n_jobs=None, penalty='l2',\n",
       "                   random_state=None, solver='lbfgs', tol=0.0001, verbose=0,\n",
       "                   warm_start=False)"
      ]
     },
     "execution_count": 406,
     "metadata": {},
     "output_type": "execute_result"
    }
   ],
   "source": [
    "logmodel = LogisticRegression()\n",
    "logmodel.fit(x_train,y_train)"
   ]
  },
  {
   "cell_type": "code",
   "execution_count": 407,
   "metadata": {},
   "outputs": [],
   "source": [
    "predictions = []\n",
    "for i in range(1,len(windows)+1):\n",
    "    df = pd.read_excel('/home/surbhi/deadline_project/sensor_data_collection/oneplus3/feature/feature'+str(i)+'.xlsx')\n",
    "    dff = pd.DataFrame(pd.Series({'std':df.loc[2,'ori'],'interquartilerange':df.loc[8,'ori'],'range':df.loc[9,'ori'], 'variance':df.loc[10,'ori']}))\n",
    "    x_test=dff.transpose()\n",
    "    predictions.append(logmodel.predict(x_test)[0])"
   ]
  },
  {
   "cell_type": "code",
   "execution_count": 408,
   "metadata": {},
   "outputs": [
    {
     "data": {
      "text/plain": [
       "[0,\n",
       " 0,\n",
       " 1,\n",
       " 0,\n",
       " 0,\n",
       " 0,\n",
       " 0,\n",
       " 1,\n",
       " 0,\n",
       " 1,\n",
       " 0,\n",
       " 0,\n",
       " 0,\n",
       " 0,\n",
       " 0,\n",
       " 0,\n",
       " 0,\n",
       " 1,\n",
       " 1,\n",
       " 0,\n",
       " 0,\n",
       " 0,\n",
       " 0,\n",
       " 0,\n",
       " 0,\n",
       " 0,\n",
       " 0,\n",
       " 0,\n",
       " 0,\n",
       " 0,\n",
       " 0,\n",
       " 0,\n",
       " 0]"
      ]
     },
     "execution_count": 408,
     "metadata": {},
     "output_type": "execute_result"
    }
   ],
   "source": [
    "predictions"
   ]
  },
  {
   "cell_type": "code",
   "execution_count": 409,
   "metadata": {},
   "outputs": [],
   "source": [
    "from sklearn.metrics import classification_report,confusion_matrix,accuracy_score"
   ]
  },
  {
   "cell_type": "code",
   "execution_count": 410,
   "metadata": {},
   "outputs": [
    {
     "name": "stdout",
     "output_type": "stream",
     "text": [
      "              precision    recall  f1-score   support\n",
      "\n",
      "           0       1.00      0.97      0.98        29\n",
      "           1       0.80      1.00      0.89         4\n",
      "\n",
      "    accuracy                           0.97        33\n",
      "   macro avg       0.90      0.98      0.94        33\n",
      "weighted avg       0.98      0.97      0.97        33\n",
      "\n"
     ]
    }
   ],
   "source": [
    "print(classification_report(y_test,predictions))"
   ]
  },
  {
   "cell_type": "code",
   "execution_count": 411,
   "metadata": {},
   "outputs": [
    {
     "name": "stdout",
     "output_type": "stream",
     "text": [
      "[[28  1]\n",
      " [ 0  4]]\n"
     ]
    }
   ],
   "source": [
    "print(confusion_matrix(y_test,predictions))"
   ]
  },
  {
   "cell_type": "code",
   "execution_count": 412,
   "metadata": {},
   "outputs": [
    {
     "name": "stdout",
     "output_type": "stream",
     "text": [
      "0.9696969696969697\n"
     ]
    }
   ],
   "source": [
    "print(accuracy_score(y_test,predictions))"
   ]
  },
  {
   "cell_type": "code",
   "execution_count": 413,
   "metadata": {},
   "outputs": [],
   "source": [
    "marker = ['N']*len(windows)"
   ]
  },
  {
   "cell_type": "code",
   "execution_count": 414,
   "metadata": {},
   "outputs": [],
   "source": [
    "j =0\n",
    "for i in predictions:\n",
    "    if i == 1:\n",
    "        marker[j] = 'T'\n",
    "    j=j+1"
   ]
  },
  {
   "cell_type": "code",
   "execution_count": 415,
   "metadata": {},
   "outputs": [],
   "source": [
    "font_dict = {'family':'serif', 'color':'darkred', 'size':15 }"
   ]
  },
  {
   "cell_type": "code",
   "execution_count": 416,
   "metadata": {},
   "outputs": [
    {
     "data": {
      "image/png": "[encoded data removed]",
      "text/plain": [
       "<Figure size 1080x432 with 1 Axes>"
      ]
     },
     "metadata": {
      "needs_background": "light"
     },
     "output_type": "display_data"
    }
   ],
   "source": [
    "plt.figure(figsize = (15,6))\n",
    "plt.plot(data_test['time_stamp'], data_test['ori'])\n",
    "for i in range(len(marker)):\n",
    "    plt.text(time_stamp_windows[i].iloc[0]+50, 200, marker[i], fontdict = font_dict)\n",
    "plt.show()"
   ]
  },
  {
   "cell_type": "code",
   "execution_count": 451,
   "metadata": {},
   "outputs": [],
   "source": [
    "#turn classification using KNN"
   ]
  },
  {
   "cell_type": "code",
   "execution_count": 452,
   "metadata": {},
   "outputs": [
    {
     "data": {
      "text/html": [
       "<div>\n",
       "<style scoped>\n",
       "    .dataframe tbody tr th:only-of-type {\n",
       "        vertical-align: middle;\n",
       "    }\n",
       "\n",
       "    .dataframe tbody tr th {\n",
       "        vertical-align: top;\n",
       "    }\n",
       "\n",
       "    .dataframe thead th {\n",
       "        text-align: right;\n",
       "    }\n",
       "</style>\n",
       "<table border=\"1\" class=\"dataframe\">\n",
       "  <thead>\n",
       "    <tr style=\"text-align: right;\">\n",
       "      <th></th>\n",
       "      <th>std</th>\n",
       "      <th>interquartilerange</th>\n",
       "      <th>range</th>\n",
       "      <th>variance</th>\n",
       "      <th>feature</th>\n",
       "    </tr>\n",
       "  </thead>\n",
       "  <tbody>\n",
       "    <tr>\n",
       "      <th>0</th>\n",
       "      <td>12.137999</td>\n",
       "      <td>11.900842</td>\n",
       "      <td>45.214780</td>\n",
       "      <td>147.331026</td>\n",
       "      <td>2</td>\n",
       "    </tr>\n",
       "    <tr>\n",
       "      <th>1</th>\n",
       "      <td>15.193842</td>\n",
       "      <td>11.501765</td>\n",
       "      <td>51.695860</td>\n",
       "      <td>230.852846</td>\n",
       "      <td>2</td>\n",
       "    </tr>\n",
       "    <tr>\n",
       "      <th>2</th>\n",
       "      <td>10.127708</td>\n",
       "      <td>8.843763</td>\n",
       "      <td>36.871430</td>\n",
       "      <td>102.570471</td>\n",
       "      <td>1</td>\n",
       "    </tr>\n",
       "    <tr>\n",
       "      <th>3</th>\n",
       "      <td>10.235665</td>\n",
       "      <td>9.997918</td>\n",
       "      <td>34.889250</td>\n",
       "      <td>104.768834</td>\n",
       "      <td>2</td>\n",
       "    </tr>\n",
       "    <tr>\n",
       "      <th>4</th>\n",
       "      <td>10.916372</td>\n",
       "      <td>9.299293</td>\n",
       "      <td>34.937865</td>\n",
       "      <td>119.167180</td>\n",
       "      <td>1</td>\n",
       "    </tr>\n",
       "  </tbody>\n",
       "</table>\n",
       "</div>"
      ],
      "text/plain": [
       "         std  interquartilerange      range    variance  feature\n",
       "0  12.137999           11.900842  45.214780  147.331026        2\n",
       "1  15.193842           11.501765  51.695860  230.852846        2\n",
       "2  10.127708            8.843763  36.871430  102.570471        1\n",
       "3  10.235665            9.997918  34.889250  104.768834        2\n",
       "4  10.916372            9.299293  34.937865  119.167180        1"
      ]
     },
     "execution_count": 452,
     "metadata": {},
     "output_type": "execute_result"
    }
   ],
   "source": [
    "data_train_classification.head()"
   ]
  },
  {
   "cell_type": "code",
   "execution_count": 453,
   "metadata": {},
   "outputs": [],
   "source": [
    "X_train = data_train_classification.drop('feature', axis=1)"
   ]
  },
  {
   "cell_type": "code",
   "execution_count": 454,
   "metadata": {},
   "outputs": [
    {
     "data": {
      "text/html": [
       "<div>\n",
       "<style scoped>\n",
       "    .dataframe tbody tr th:only-of-type {\n",
       "        vertical-align: middle;\n",
       "    }\n",
       "\n",
       "    .dataframe tbody tr th {\n",
       "        vertical-align: top;\n",
       "    }\n",
       "\n",
       "    .dataframe thead th {\n",
       "        text-align: right;\n",
       "    }\n",
       "</style>\n",
       "<table border=\"1\" class=\"dataframe\">\n",
       "  <thead>\n",
       "    <tr style=\"text-align: right;\">\n",
       "      <th></th>\n",
       "      <th>std</th>\n",
       "      <th>interquartilerange</th>\n",
       "      <th>range</th>\n",
       "      <th>variance</th>\n",
       "    </tr>\n",
       "  </thead>\n",
       "  <tbody>\n",
       "    <tr>\n",
       "      <th>0</th>\n",
       "      <td>12.137999</td>\n",
       "      <td>11.900842</td>\n",
       "      <td>45.214780</td>\n",
       "      <td>147.331026</td>\n",
       "    </tr>\n",
       "    <tr>\n",
       "      <th>1</th>\n",
       "      <td>15.193842</td>\n",
       "      <td>11.501765</td>\n",
       "      <td>51.695860</td>\n",
       "      <td>230.852846</td>\n",
       "    </tr>\n",
       "    <tr>\n",
       "      <th>2</th>\n",
       "      <td>10.127708</td>\n",
       "      <td>8.843763</td>\n",
       "      <td>36.871430</td>\n",
       "      <td>102.570471</td>\n",
       "    </tr>\n",
       "    <tr>\n",
       "      <th>3</th>\n",
       "      <td>10.235665</td>\n",
       "      <td>9.997918</td>\n",
       "      <td>34.889250</td>\n",
       "      <td>104.768834</td>\n",
       "    </tr>\n",
       "    <tr>\n",
       "      <th>4</th>\n",
       "      <td>10.916372</td>\n",
       "      <td>9.299293</td>\n",
       "      <td>34.937865</td>\n",
       "      <td>119.167180</td>\n",
       "    </tr>\n",
       "    <tr>\n",
       "      <th>5</th>\n",
       "      <td>12.931802</td>\n",
       "      <td>15.464475</td>\n",
       "      <td>44.843400</td>\n",
       "      <td>167.231499</td>\n",
       "    </tr>\n",
       "    <tr>\n",
       "      <th>6</th>\n",
       "      <td>11.178777</td>\n",
       "      <td>10.964158</td>\n",
       "      <td>35.516680</td>\n",
       "      <td>124.965051</td>\n",
       "    </tr>\n",
       "    <tr>\n",
       "      <th>7</th>\n",
       "      <td>13.304096</td>\n",
       "      <td>9.559440</td>\n",
       "      <td>39.813770</td>\n",
       "      <td>176.998973</td>\n",
       "    </tr>\n",
       "    <tr>\n",
       "      <th>8</th>\n",
       "      <td>10.356148</td>\n",
       "      <td>8.600248</td>\n",
       "      <td>31.888800</td>\n",
       "      <td>107.249794</td>\n",
       "    </tr>\n",
       "    <tr>\n",
       "      <th>9</th>\n",
       "      <td>14.907572</td>\n",
       "      <td>13.372647</td>\n",
       "      <td>42.441730</td>\n",
       "      <td>222.235712</td>\n",
       "    </tr>\n",
       "    <tr>\n",
       "      <th>10</th>\n",
       "      <td>11.461854</td>\n",
       "      <td>12.493526</td>\n",
       "      <td>34.694640</td>\n",
       "      <td>131.374105</td>\n",
       "    </tr>\n",
       "    <tr>\n",
       "      <th>11</th>\n",
       "      <td>13.539483</td>\n",
       "      <td>9.923652</td>\n",
       "      <td>41.034975</td>\n",
       "      <td>183.317600</td>\n",
       "    </tr>\n",
       "    <tr>\n",
       "      <th>12</th>\n",
       "      <td>14.147397</td>\n",
       "      <td>12.269485</td>\n",
       "      <td>46.199380</td>\n",
       "      <td>200.148831</td>\n",
       "    </tr>\n",
       "    <tr>\n",
       "      <th>13</th>\n",
       "      <td>11.585039</td>\n",
       "      <td>13.705900</td>\n",
       "      <td>42.164030</td>\n",
       "      <td>134.213128</td>\n",
       "    </tr>\n",
       "    <tr>\n",
       "      <th>14</th>\n",
       "      <td>11.142319</td>\n",
       "      <td>10.275735</td>\n",
       "      <td>35.084000</td>\n",
       "      <td>124.151283</td>\n",
       "    </tr>\n",
       "    <tr>\n",
       "      <th>15</th>\n",
       "      <td>10.546449</td>\n",
       "      <td>5.602898</td>\n",
       "      <td>32.871330</td>\n",
       "      <td>111.227581</td>\n",
       "    </tr>\n",
       "    <tr>\n",
       "      <th>16</th>\n",
       "      <td>16.580134</td>\n",
       "      <td>14.922118</td>\n",
       "      <td>55.251880</td>\n",
       "      <td>274.900854</td>\n",
       "    </tr>\n",
       "    <tr>\n",
       "      <th>17</th>\n",
       "      <td>14.907572</td>\n",
       "      <td>13.372647</td>\n",
       "      <td>42.441730</td>\n",
       "      <td>222.235712</td>\n",
       "    </tr>\n",
       "    <tr>\n",
       "      <th>18</th>\n",
       "      <td>18.167699</td>\n",
       "      <td>11.970140</td>\n",
       "      <td>55.360355</td>\n",
       "      <td>330.065300</td>\n",
       "    </tr>\n",
       "    <tr>\n",
       "      <th>19</th>\n",
       "      <td>12.563285</td>\n",
       "      <td>15.538569</td>\n",
       "      <td>42.393676</td>\n",
       "      <td>157.836128</td>\n",
       "    </tr>\n",
       "    <tr>\n",
       "      <th>20</th>\n",
       "      <td>7.065546</td>\n",
       "      <td>8.328740</td>\n",
       "      <td>26.648370</td>\n",
       "      <td>49.921942</td>\n",
       "    </tr>\n",
       "    <tr>\n",
       "      <th>21</th>\n",
       "      <td>8.206939</td>\n",
       "      <td>3.040640</td>\n",
       "      <td>26.187440</td>\n",
       "      <td>67.353840</td>\n",
       "    </tr>\n",
       "    <tr>\n",
       "      <th>22</th>\n",
       "      <td>10.102772</td>\n",
       "      <td>10.854928</td>\n",
       "      <td>33.754210</td>\n",
       "      <td>102.065997</td>\n",
       "    </tr>\n",
       "    <tr>\n",
       "      <th>23</th>\n",
       "      <td>11.064951</td>\n",
       "      <td>14.183240</td>\n",
       "      <td>33.731510</td>\n",
       "      <td>122.433142</td>\n",
       "    </tr>\n",
       "    <tr>\n",
       "      <th>24</th>\n",
       "      <td>10.742169</td>\n",
       "      <td>9.308205</td>\n",
       "      <td>34.913480</td>\n",
       "      <td>115.394187</td>\n",
       "    </tr>\n",
       "    <tr>\n",
       "      <th>25</th>\n",
       "      <td>13.515620</td>\n",
       "      <td>15.354807</td>\n",
       "      <td>41.501130</td>\n",
       "      <td>182.671985</td>\n",
       "    </tr>\n",
       "    <tr>\n",
       "      <th>26</th>\n",
       "      <td>15.018926</td>\n",
       "      <td>16.340730</td>\n",
       "      <td>53.024323</td>\n",
       "      <td>225.568136</td>\n",
       "    </tr>\n",
       "    <tr>\n",
       "      <th>27</th>\n",
       "      <td>14.789870</td>\n",
       "      <td>10.510307</td>\n",
       "      <td>51.617300</td>\n",
       "      <td>218.740255</td>\n",
       "    </tr>\n",
       "    <tr>\n",
       "      <th>28</th>\n",
       "      <td>7.509932</td>\n",
       "      <td>8.070282</td>\n",
       "      <td>21.753290</td>\n",
       "      <td>56.399084</td>\n",
       "    </tr>\n",
       "    <tr>\n",
       "      <th>29</th>\n",
       "      <td>15.862670</td>\n",
       "      <td>11.052170</td>\n",
       "      <td>57.059570</td>\n",
       "      <td>251.624292</td>\n",
       "    </tr>\n",
       "  </tbody>\n",
       "</table>\n",
       "</div>"
      ],
      "text/plain": [
       "          std  interquartilerange      range    variance\n",
       "0   12.137999           11.900842  45.214780  147.331026\n",
       "1   15.193842           11.501765  51.695860  230.852846\n",
       "2   10.127708            8.843763  36.871430  102.570471\n",
       "3   10.235665            9.997918  34.889250  104.768834\n",
       "4   10.916372            9.299293  34.937865  119.167180\n",
       "5   12.931802           15.464475  44.843400  167.231499\n",
       "6   11.178777           10.964158  35.516680  124.965051\n",
       "7   13.304096            9.559440  39.813770  176.998973\n",
       "8   10.356148            8.600248  31.888800  107.249794\n",
       "9   14.907572           13.372647  42.441730  222.235712\n",
       "10  11.461854           12.493526  34.694640  131.374105\n",
       "11  13.539483            9.923652  41.034975  183.317600\n",
       "12  14.147397           12.269485  46.199380  200.148831\n",
       "13  11.585039           13.705900  42.164030  134.213128\n",
       "14  11.142319           10.275735  35.084000  124.151283\n",
       "15  10.546449            5.602898  32.871330  111.227581\n",
       "16  16.580134           14.922118  55.251880  274.900854\n",
       "17  14.907572           13.372647  42.441730  222.235712\n",
       "18  18.167699           11.970140  55.360355  330.065300\n",
       "19  12.563285           15.538569  42.393676  157.836128\n",
       "20   7.065546            8.328740  26.648370   49.921942\n",
       "21   8.206939            3.040640  26.187440   67.353840\n",
       "22  10.102772           10.854928  33.754210  102.065997\n",
       "23  11.064951           14.183240  33.731510  122.433142\n",
       "24  10.742169            9.308205  34.913480  115.394187\n",
       "25  13.515620           15.354807  41.501130  182.671985\n",
       "26  15.018926           16.340730  53.024323  225.568136\n",
       "27  14.789870           10.510307  51.617300  218.740255\n",
       "28   7.509932            8.070282  21.753290   56.399084\n",
       "29  15.862670           11.052170  57.059570  251.624292"
      ]
     },
     "execution_count": 454,
     "metadata": {},
     "output_type": "execute_result"
    }
   ],
   "source": [
    "X_train"
   ]
  },
  {
   "cell_type": "code",
   "execution_count": 455,
   "metadata": {},
   "outputs": [],
   "source": [
    "Y_train = data_train_classification['feature']"
   ]
  },
  {
   "cell_type": "code",
   "execution_count": 456,
   "metadata": {},
   "outputs": [
    {
     "data": {
      "text/plain": [
       "0     2\n",
       "1     2\n",
       "2     1\n",
       "3     2\n",
       "4     1\n",
       "5     1\n",
       "6     2\n",
       "7     2\n",
       "8     2\n",
       "9     2\n",
       "10    1\n",
       "11    1\n",
       "12    2\n",
       "13    1\n",
       "14    1\n",
       "15    1\n",
       "16    2\n",
       "17    1\n",
       "18    1\n",
       "19    2\n",
       "20    1\n",
       "21    1\n",
       "22    1\n",
       "23    1\n",
       "24    1\n",
       "25    2\n",
       "26    2\n",
       "27    2\n",
       "28    2\n",
       "29    1\n",
       "Name: feature, dtype: int64"
      ]
     },
     "execution_count": 456,
     "metadata": {},
     "output_type": "execute_result"
    }
   ],
   "source": [
    "Y_train"
   ]
  },
  {
   "cell_type": "code",
   "execution_count": 457,
   "metadata": {},
   "outputs": [],
   "source": [
    "from sklearn.preprocessing import StandardScaler"
   ]
  },
  {
   "cell_type": "code",
   "execution_count": 458,
   "metadata": {},
   "outputs": [],
   "source": [
    "scaler = StandardScaler()"
   ]
  },
  {
   "cell_type": "code",
   "execution_count": 459,
   "metadata": {},
   "outputs": [
    {
     "data": {
      "text/plain": [
       "StandardScaler(copy=True, with_mean=True, with_std=True)"
      ]
     },
     "execution_count": 459,
     "metadata": {},
     "output_type": "execute_result"
    }
   ],
   "source": [
    "scaler.fit(X_train)"
   ]
  },
  {
   "cell_type": "code",
   "execution_count": 460,
   "metadata": {},
   "outputs": [],
   "source": [
    "scaled_features = scaler.transform(X_train)"
   ]
  },
  {
   "cell_type": "code",
   "execution_count": 461,
   "metadata": {},
   "outputs": [
    {
     "data": {
      "text/html": [
       "<div>\n",
       "<style scoped>\n",
       "    .dataframe tbody tr th:only-of-type {\n",
       "        vertical-align: middle;\n",
       "    }\n",
       "\n",
       "    .dataframe tbody tr th {\n",
       "        vertical-align: top;\n",
       "    }\n",
       "\n",
       "    .dataframe thead th {\n",
       "        text-align: right;\n",
       "    }\n",
       "</style>\n",
       "<table border=\"1\" class=\"dataframe\">\n",
       "  <thead>\n",
       "    <tr style=\"text-align: right;\">\n",
       "      <th></th>\n",
       "      <th>std</th>\n",
       "      <th>interquartilerange</th>\n",
       "      <th>range</th>\n",
       "      <th>variance</th>\n",
       "    </tr>\n",
       "  </thead>\n",
       "  <tbody>\n",
       "    <tr>\n",
       "      <th>0</th>\n",
       "      <td>-0.072072</td>\n",
       "      <td>0.228435</td>\n",
       "      <td>0.564794</td>\n",
       "      <td>-0.175053</td>\n",
       "    </tr>\n",
       "    <tr>\n",
       "      <th>1</th>\n",
       "      <td>1.093093</td>\n",
       "      <td>0.094385</td>\n",
       "      <td>1.293762</td>\n",
       "      <td>1.096004</td>\n",
       "    </tr>\n",
       "    <tr>\n",
       "      <th>2</th>\n",
       "      <td>-0.838578</td>\n",
       "      <td>-0.798441</td>\n",
       "      <td>-0.373636</td>\n",
       "      <td>-0.856230</td>\n",
       "    </tr>\n",
       "    <tr>\n",
       "      <th>3</th>\n",
       "      <td>-0.797415</td>\n",
       "      <td>-0.410759</td>\n",
       "      <td>-0.596585</td>\n",
       "      <td>-0.822775</td>\n",
       "    </tr>\n",
       "    <tr>\n",
       "      <th>4</th>\n",
       "      <td>-0.537867</td>\n",
       "      <td>-0.645427</td>\n",
       "      <td>-0.591117</td>\n",
       "      <td>-0.603657</td>\n",
       "    </tr>\n",
       "    <tr>\n",
       "      <th>5</th>\n",
       "      <td>0.230598</td>\n",
       "      <td>1.425462</td>\n",
       "      <td>0.523022</td>\n",
       "      <td>0.127798</td>\n",
       "    </tr>\n",
       "    <tr>\n",
       "      <th>6</th>\n",
       "      <td>-0.437815</td>\n",
       "      <td>-0.086198</td>\n",
       "      <td>-0.526014</td>\n",
       "      <td>-0.515424</td>\n",
       "    </tr>\n",
       "    <tr>\n",
       "      <th>7</th>\n",
       "      <td>0.372550</td>\n",
       "      <td>-0.558044</td>\n",
       "      <td>-0.042693</td>\n",
       "      <td>0.276442</td>\n",
       "    </tr>\n",
       "    <tr>\n",
       "      <th>8</th>\n",
       "      <td>-0.751476</td>\n",
       "      <td>-0.880238</td>\n",
       "      <td>-0.934065</td>\n",
       "      <td>-0.785019</td>\n",
       "    </tr>\n",
       "    <tr>\n",
       "      <th>9</th>\n",
       "      <td>0.983941</td>\n",
       "      <td>0.722816</td>\n",
       "      <td>0.252891</td>\n",
       "      <td>0.964866</td>\n",
       "    </tr>\n",
       "    <tr>\n",
       "      <th>10</th>\n",
       "      <td>-0.329880</td>\n",
       "      <td>0.427518</td>\n",
       "      <td>-0.618474</td>\n",
       "      <td>-0.417889</td>\n",
       "    </tr>\n",
       "    <tr>\n",
       "      <th>11</th>\n",
       "      <td>0.462301</td>\n",
       "      <td>-0.435705</td>\n",
       "      <td>0.094664</td>\n",
       "      <td>0.372600</td>\n",
       "    </tr>\n",
       "    <tr>\n",
       "      <th>12</th>\n",
       "      <td>0.694093</td>\n",
       "      <td>0.352262</td>\n",
       "      <td>0.675538</td>\n",
       "      <td>0.628743</td>\n",
       "    </tr>\n",
       "    <tr>\n",
       "      <th>13</th>\n",
       "      <td>-0.282911</td>\n",
       "      <td>0.834755</td>\n",
       "      <td>0.221656</td>\n",
       "      <td>-0.374684</td>\n",
       "    </tr>\n",
       "    <tr>\n",
       "      <th>14</th>\n",
       "      <td>-0.451716</td>\n",
       "      <td>-0.317440</td>\n",
       "      <td>-0.574680</td>\n",
       "      <td>-0.527808</td>\n",
       "    </tr>\n",
       "    <tr>\n",
       "      <th>15</th>\n",
       "      <td>-0.678916</td>\n",
       "      <td>-1.887050</td>\n",
       "      <td>-0.823553</td>\n",
       "      <td>-0.724484</td>\n",
       "    </tr>\n",
       "    <tr>\n",
       "      <th>16</th>\n",
       "      <td>1.621673</td>\n",
       "      <td>1.243284</td>\n",
       "      <td>1.693731</td>\n",
       "      <td>1.766338</td>\n",
       "    </tr>\n",
       "    <tr>\n",
       "      <th>17</th>\n",
       "      <td>0.983941</td>\n",
       "      <td>0.722816</td>\n",
       "      <td>0.252891</td>\n",
       "      <td>0.964866</td>\n",
       "    </tr>\n",
       "    <tr>\n",
       "      <th>18</th>\n",
       "      <td>2.226997</td>\n",
       "      <td>0.251712</td>\n",
       "      <td>1.705931</td>\n",
       "      <td>2.605845</td>\n",
       "    </tr>\n",
       "    <tr>\n",
       "      <th>19</th>\n",
       "      <td>0.090086</td>\n",
       "      <td>1.450350</td>\n",
       "      <td>0.247486</td>\n",
       "      <td>-0.015183</td>\n",
       "    </tr>\n",
       "    <tr>\n",
       "      <th>20</th>\n",
       "      <td>-2.006152</td>\n",
       "      <td>-0.971437</td>\n",
       "      <td>-1.523490</td>\n",
       "      <td>-1.657449</td>\n",
       "    </tr>\n",
       "    <tr>\n",
       "      <th>21</th>\n",
       "      <td>-1.570949</td>\n",
       "      <td>-2.747714</td>\n",
       "      <td>-1.575333</td>\n",
       "      <td>-1.392166</td>\n",
       "    </tr>\n",
       "    <tr>\n",
       "      <th>22</th>\n",
       "      <td>-0.848086</td>\n",
       "      <td>-0.122889</td>\n",
       "      <td>-0.724250</td>\n",
       "      <td>-0.863908</td>\n",
       "    </tr>\n",
       "    <tr>\n",
       "      <th>23</th>\n",
       "      <td>-0.481215</td>\n",
       "      <td>0.995094</td>\n",
       "      <td>-0.726803</td>\n",
       "      <td>-0.553955</td>\n",
       "    </tr>\n",
       "    <tr>\n",
       "      <th>24</th>\n",
       "      <td>-0.604289</td>\n",
       "      <td>-0.642434</td>\n",
       "      <td>-0.593860</td>\n",
       "      <td>-0.661076</td>\n",
       "    </tr>\n",
       "    <tr>\n",
       "      <th>25</th>\n",
       "      <td>0.453202</td>\n",
       "      <td>1.388625</td>\n",
       "      <td>0.147096</td>\n",
       "      <td>0.362775</td>\n",
       "    </tr>\n",
       "    <tr>\n",
       "      <th>26</th>\n",
       "      <td>1.026399</td>\n",
       "      <td>1.719797</td>\n",
       "      <td>1.443183</td>\n",
       "      <td>1.015580</td>\n",
       "    </tr>\n",
       "    <tr>\n",
       "      <th>27</th>\n",
       "      <td>0.939062</td>\n",
       "      <td>-0.238647</td>\n",
       "      <td>1.284926</td>\n",
       "      <td>0.911672</td>\n",
       "    </tr>\n",
       "    <tr>\n",
       "      <th>28</th>\n",
       "      <td>-1.836712</td>\n",
       "      <td>-1.058253</td>\n",
       "      <td>-2.074071</td>\n",
       "      <td>-1.558879</td>\n",
       "    </tr>\n",
       "    <tr>\n",
       "      <th>29</th>\n",
       "      <td>1.348111</td>\n",
       "      <td>-0.056635</td>\n",
       "      <td>1.897053</td>\n",
       "      <td>1.412109</td>\n",
       "    </tr>\n",
       "  </tbody>\n",
       "</table>\n",
       "</div>"
      ],
      "text/plain": [
       "         std  interquartilerange     range  variance\n",
       "0  -0.072072            0.228435  0.564794 -0.175053\n",
       "1   1.093093            0.094385  1.293762  1.096004\n",
       "2  -0.838578           -0.798441 -0.373636 -0.856230\n",
       "3  -0.797415           -0.410759 -0.596585 -0.822775\n",
       "4  -0.537867           -0.645427 -0.591117 -0.603657\n",
       "5   0.230598            1.425462  0.523022  0.127798\n",
       "6  -0.437815           -0.086198 -0.526014 -0.515424\n",
       "7   0.372550           -0.558044 -0.042693  0.276442\n",
       "8  -0.751476           -0.880238 -0.934065 -0.785019\n",
       "9   0.983941            0.722816  0.252891  0.964866\n",
       "10 -0.329880            0.427518 -0.618474 -0.417889\n",
       "11  0.462301           -0.435705  0.094664  0.372600\n",
       "12  0.694093            0.352262  0.675538  0.628743\n",
       "13 -0.282911            0.834755  0.221656 -0.374684\n",
       "14 -0.451716           -0.317440 -0.574680 -0.527808\n",
       "15 -0.678916           -1.887050 -0.823553 -0.724484\n",
       "16  1.621673            1.243284  1.693731  1.766338\n",
       "17  0.983941            0.722816  0.252891  0.964866\n",
       "18  2.226997            0.251712  1.705931  2.605845\n",
       "19  0.090086            1.450350  0.247486 -0.015183\n",
       "20 -2.006152           -0.971437 -1.523490 -1.657449\n",
       "21 -1.570949           -2.747714 -1.575333 -1.392166\n",
       "22 -0.848086           -0.122889 -0.724250 -0.863908\n",
       "23 -0.481215            0.995094 -0.726803 -0.553955\n",
       "24 -0.604289           -0.642434 -0.593860 -0.661076\n",
       "25  0.453202            1.388625  0.147096  0.362775\n",
       "26  1.026399            1.719797  1.443183  1.015580\n",
       "27  0.939062           -0.238647  1.284926  0.911672\n",
       "28 -1.836712           -1.058253 -2.074071 -1.558879\n",
       "29  1.348111           -0.056635  1.897053  1.412109"
      ]
     },
     "execution_count": 461,
     "metadata": {},
     "output_type": "execute_result"
    }
   ],
   "source": [
    "X_train_df = pd.DataFrame(scaled_features,columns=X_train.columns)\n",
    "X_train_df"
   ]
  },
  {
   "cell_type": "code",
   "execution_count": 462,
   "metadata": {},
   "outputs": [],
   "source": [
    "#Y_test = Y_test['feature']"
   ]
  },
  {
   "cell_type": "code",
   "execution_count": 463,
   "metadata": {},
   "outputs": [],
   "source": [
    "#Y_test"
   ]
  },
  {
   "cell_type": "code",
   "execution_count": 464,
   "metadata": {},
   "outputs": [],
   "source": [
    "j =0 \n",
    "arr=[] \n",
    "for i in predictions: \n",
    "    j=j+1 \n",
    "    if i == 1: \n",
    "        arr.append(j)"
   ]
  },
  {
   "cell_type": "code",
   "execution_count": 465,
   "metadata": {},
   "outputs": [
    {
     "data": {
      "text/plain": [
       "[3, 8, 10, 18, 19]"
      ]
     },
     "execution_count": 465,
     "metadata": {},
     "output_type": "execute_result"
    }
   ],
   "source": [
    "arr"
   ]
  },
  {
   "cell_type": "code",
   "execution_count": 466,
   "metadata": {},
   "outputs": [],
   "source": [
    "from sklearn.neighbors import KNeighborsClassifier"
   ]
  },
  {
   "cell_type": "code",
   "execution_count": 467,
   "metadata": {},
   "outputs": [],
   "source": [
    "X_test = pd.DataFrame()\n",
    "for i in arr:\n",
    "    df = pd.read_excel('/home/surbhi/deadline_project/sensor_data_collection/oneplus3/feature/feature'+str(i)+'.xlsx')\n",
    "    dfff = pd.DataFrame(pd.Series({'std':df.loc[2,'ori'],'interquartilerange':df.loc[8,'ori'],'range':df.loc[9,'ori'], 'variance':df.loc[10,'ori']}))\n",
    "    new_df=dfff.transpose()\n",
    "    X_test = X_test.append(new_df.iloc[0])\n",
    "X_test = X_test[['std','interquartilerange','range','variance']]\n"
   ]
  },
  {
   "cell_type": "code",
   "execution_count": 468,
   "metadata": {},
   "outputs": [
    {
     "data": {
      "text/html": [
       "<div>\n",
       "<style scoped>\n",
       "    .dataframe tbody tr th:only-of-type {\n",
       "        vertical-align: middle;\n",
       "    }\n",
       "\n",
       "    .dataframe tbody tr th {\n",
       "        vertical-align: top;\n",
       "    }\n",
       "\n",
       "    .dataframe thead th {\n",
       "        text-align: right;\n",
       "    }\n",
       "</style>\n",
       "<table border=\"1\" class=\"dataframe\">\n",
       "  <thead>\n",
       "    <tr style=\"text-align: right;\">\n",
       "      <th></th>\n",
       "      <th>std</th>\n",
       "      <th>interquartilerange</th>\n",
       "      <th>range</th>\n",
       "      <th>variance</th>\n",
       "    </tr>\n",
       "  </thead>\n",
       "  <tbody>\n",
       "    <tr>\n",
       "      <th>0</th>\n",
       "      <td>13.717925</td>\n",
       "      <td>16.989567</td>\n",
       "      <td>34.84700</td>\n",
       "      <td>188.181454</td>\n",
       "    </tr>\n",
       "    <tr>\n",
       "      <th>0</th>\n",
       "      <td>17.468361</td>\n",
       "      <td>13.222048</td>\n",
       "      <td>59.73067</td>\n",
       "      <td>305.143644</td>\n",
       "    </tr>\n",
       "    <tr>\n",
       "      <th>0</th>\n",
       "      <td>15.304437</td>\n",
       "      <td>13.086150</td>\n",
       "      <td>55.95564</td>\n",
       "      <td>234.225789</td>\n",
       "    </tr>\n",
       "    <tr>\n",
       "      <th>0</th>\n",
       "      <td>10.237452</td>\n",
       "      <td>3.553090</td>\n",
       "      <td>42.90860</td>\n",
       "      <td>104.805424</td>\n",
       "    </tr>\n",
       "    <tr>\n",
       "      <th>0</th>\n",
       "      <td>11.198991</td>\n",
       "      <td>11.443770</td>\n",
       "      <td>38.43821</td>\n",
       "      <td>125.417409</td>\n",
       "    </tr>\n",
       "  </tbody>\n",
       "</table>\n",
       "</div>"
      ],
      "text/plain": [
       "         std  interquartilerange     range    variance\n",
       "0  13.717925           16.989567  34.84700  188.181454\n",
       "0  17.468361           13.222048  59.73067  305.143644\n",
       "0  15.304437           13.086150  55.95564  234.225789\n",
       "0  10.237452            3.553090  42.90860  104.805424\n",
       "0  11.198991           11.443770  38.43821  125.417409"
      ]
     },
     "execution_count": 468,
     "metadata": {},
     "output_type": "execute_result"
    }
   ],
   "source": [
    "X_test"
   ]
  },
  {
   "cell_type": "code",
   "execution_count": 469,
   "metadata": {},
   "outputs": [],
   "source": [
    "scaler = StandardScaler()\n",
    "scaler.fit(X_test)\n",
    "scaled_features1 = scaler.transform(X_test)"
   ]
  },
  {
   "cell_type": "code",
   "execution_count": 470,
   "metadata": {},
   "outputs": [
    {
     "data": {
      "text/html": [
       "<div>\n",
       "<style scoped>\n",
       "    .dataframe tbody tr th:only-of-type {\n",
       "        vertical-align: middle;\n",
       "    }\n",
       "\n",
       "    .dataframe tbody tr th {\n",
       "        vertical-align: top;\n",
       "    }\n",
       "\n",
       "    .dataframe thead th {\n",
       "        text-align: right;\n",
       "    }\n",
       "</style>\n",
       "<table border=\"1\" class=\"dataframe\">\n",
       "  <thead>\n",
       "    <tr style=\"text-align: right;\">\n",
       "      <th></th>\n",
       "      <th>std</th>\n",
       "      <th>interquartilerange</th>\n",
       "      <th>range</th>\n",
       "      <th>variance</th>\n",
       "    </tr>\n",
       "  </thead>\n",
       "  <tbody>\n",
       "    <tr>\n",
       "      <th>0</th>\n",
       "      <td>0.050110</td>\n",
       "      <td>1.200115</td>\n",
       "      <td>-1.179054</td>\n",
       "      <td>-0.046219</td>\n",
       "    </tr>\n",
       "    <tr>\n",
       "      <th>1</th>\n",
       "      <td>1.468580</td>\n",
       "      <td>0.351914</td>\n",
       "      <td>1.365757</td>\n",
       "      <td>1.556327</td>\n",
       "    </tr>\n",
       "    <tr>\n",
       "      <th>2</th>\n",
       "      <td>0.650152</td>\n",
       "      <td>0.321318</td>\n",
       "      <td>0.979691</td>\n",
       "      <td>0.584653</td>\n",
       "    </tr>\n",
       "    <tr>\n",
       "      <th>3</th>\n",
       "      <td>-1.266255</td>\n",
       "      <td>-1.824908</td>\n",
       "      <td>-0.354608</td>\n",
       "      <td>-1.188587</td>\n",
       "    </tr>\n",
       "    <tr>\n",
       "      <th>4</th>\n",
       "      <td>-0.902587</td>\n",
       "      <td>-0.048439</td>\n",
       "      <td>-0.811787</td>\n",
       "      <td>-0.906174</td>\n",
       "    </tr>\n",
       "  </tbody>\n",
       "</table>\n",
       "</div>"
      ],
      "text/plain": [
       "        std  interquartilerange     range  variance\n",
       "0  0.050110            1.200115 -1.179054 -0.046219\n",
       "1  1.468580            0.351914  1.365757  1.556327\n",
       "2  0.650152            0.321318  0.979691  0.584653\n",
       "3 -1.266255           -1.824908 -0.354608 -1.188587\n",
       "4 -0.902587           -0.048439 -0.811787 -0.906174"
      ]
     },
     "execution_count": 470,
     "metadata": {},
     "output_type": "execute_result"
    }
   ],
   "source": [
    "X_test_df = pd.DataFrame(scaled_features1,columns=X_test.columns)\n",
    "X_test_df.head()"
   ]
  },
  {
   "cell_type": "code",
   "execution_count": 474,
   "metadata": {},
   "outputs": [
    {
     "data": {
      "text/plain": [
       "KNeighborsClassifier(algorithm='auto', leaf_size=30, metric='minkowski',\n",
       "                     metric_params=None, n_jobs=None, n_neighbors=10, p=2,\n",
       "                     weights='uniform')"
      ]
     },
     "execution_count": 474,
     "metadata": {},
     "output_type": "execute_result"
    }
   ],
   "source": [
    "knn = KNeighborsClassifier(n_neighbors=1)\n",
    "knn.fit(X_train_df,Y_train)"
   ]
  },
  {
   "cell_type": "code",
   "execution_count": 475,
   "metadata": {},
   "outputs": [],
   "source": [
    "predictions2 = knn.predict(X_test_df)"
   ]
  },
  {
   "cell_type": "code",
   "execution_count": 476,
   "metadata": {},
   "outputs": [
    {
     "data": {
      "text/plain": [
       "array([1, 2, 2, 1, 1])"
      ]
     },
     "execution_count": 476,
     "metadata": {},
     "output_type": "execute_result"
    }
   ],
   "source": [
    "predictions2"
   ]
  },
  {
   "cell_type": "code",
   "execution_count": 477,
   "metadata": {},
   "outputs": [],
   "source": [
    "predictions2= np.delete(predictions2,0)"
   ]
  },
  {
   "cell_type": "code",
   "execution_count": 478,
   "metadata": {},
   "outputs": [
    {
     "data": {
      "text/plain": [
       "array([2, 2, 1, 1])"
      ]
     },
     "execution_count": 478,
     "metadata": {},
     "output_type": "execute_result"
    }
   ],
   "source": [
    "predictions2"
   ]
  },
  {
   "cell_type": "code",
   "execution_count": 479,
   "metadata": {},
   "outputs": [],
   "source": [
    "Test = [2,1,2,2]"
   ]
  },
  {
   "cell_type": "code",
   "execution_count": 480,
   "metadata": {},
   "outputs": [],
   "source": [
    "from sklearn.metrics import classification_report,confusion_matrix"
   ]
  },
  {
   "cell_type": "code",
   "execution_count": 481,
   "metadata": {},
   "outputs": [
    {
     "name": "stdout",
     "output_type": "stream",
     "text": [
      "[[0 1]\n",
      " [2 1]]\n"
     ]
    }
   ],
   "source": [
    "print(confusion_matrix(Test,predictions2))"
   ]
  },
  {
   "cell_type": "code",
   "execution_count": 482,
   "metadata": {},
   "outputs": [
    {
     "name": "stdout",
     "output_type": "stream",
     "text": [
      "              precision    recall  f1-score   support\n",
      "\n",
      "           1       0.00      0.00      0.00         1\n",
      "           2       0.50      0.33      0.40         3\n",
      "\n",
      "    accuracy                           0.25         4\n",
      "   macro avg       0.25      0.17      0.20         4\n",
      "weighted avg       0.38      0.25      0.30         4\n",
      "\n"
     ]
    }
   ],
   "source": [
    "print(classification_report(Test,predictions2))"
   ]
  },
  {
   "cell_type": "code",
   "execution_count": 483,
   "metadata": {},
   "outputs": [
    {
     "name": "stdout",
     "output_type": "stream",
     "text": [
      "0.25\n"
     ]
    }
   ],
   "source": [
    "print(accuracy_score(Test,predictions2))"
   ]
  },
  {
   "cell_type": "code",
   "execution_count": null,
   "metadata": {},
   "outputs": [],
   "source": []
  },
  {
   "cell_type": "code",
   "execution_count": 448,
   "metadata": {},
   "outputs": [
    {
     "name": "stderr",
     "output_type": "stream",
     "text": [
      "/home/surbhi/anaconda3/lib/python3.7/site-packages/ipykernel_launcher.py:9: DeprecationWarning: elementwise comparison failed; this will raise an error in the future.\n",
      "  if __name__ == '__main__':\n",
      "/home/surbhi/anaconda3/lib/python3.7/site-packages/ipykernel_launcher.py:9: DeprecationWarning: elementwise comparison failed; this will raise an error in the future.\n",
      "  if __name__ == '__main__':\n",
      "/home/surbhi/anaconda3/lib/python3.7/site-packages/ipykernel_launcher.py:9: DeprecationWarning: elementwise comparison failed; this will raise an error in the future.\n",
      "  if __name__ == '__main__':\n",
      "/home/surbhi/anaconda3/lib/python3.7/site-packages/ipykernel_launcher.py:9: DeprecationWarning: elementwise comparison failed; this will raise an error in the future.\n",
      "  if __name__ == '__main__':\n",
      "/home/surbhi/anaconda3/lib/python3.7/site-packages/ipykernel_launcher.py:9: DeprecationWarning: elementwise comparison failed; this will raise an error in the future.\n",
      "  if __name__ == '__main__':\n",
      "/home/surbhi/anaconda3/lib/python3.7/site-packages/ipykernel_launcher.py:9: DeprecationWarning: elementwise comparison failed; this will raise an error in the future.\n",
      "  if __name__ == '__main__':\n",
      "/home/surbhi/anaconda3/lib/python3.7/site-packages/ipykernel_launcher.py:9: DeprecationWarning: elementwise comparison failed; this will raise an error in the future.\n",
      "  if __name__ == '__main__':\n",
      "/home/surbhi/anaconda3/lib/python3.7/site-packages/ipykernel_launcher.py:9: DeprecationWarning: elementwise comparison failed; this will raise an error in the future.\n",
      "  if __name__ == '__main__':\n",
      "/home/surbhi/anaconda3/lib/python3.7/site-packages/ipykernel_launcher.py:9: DeprecationWarning: elementwise comparison failed; this will raise an error in the future.\n",
      "  if __name__ == '__main__':\n",
      "/home/surbhi/anaconda3/lib/python3.7/site-packages/ipykernel_launcher.py:9: DeprecationWarning: elementwise comparison failed; this will raise an error in the future.\n",
      "  if __name__ == '__main__':\n",
      "/home/surbhi/anaconda3/lib/python3.7/site-packages/ipykernel_launcher.py:9: DeprecationWarning: elementwise comparison failed; this will raise an error in the future.\n",
      "  if __name__ == '__main__':\n",
      "/home/surbhi/anaconda3/lib/python3.7/site-packages/ipykernel_launcher.py:9: DeprecationWarning: elementwise comparison failed; this will raise an error in the future.\n",
      "  if __name__ == '__main__':\n",
      "/home/surbhi/anaconda3/lib/python3.7/site-packages/ipykernel_launcher.py:9: DeprecationWarning: elementwise comparison failed; this will raise an error in the future.\n",
      "  if __name__ == '__main__':\n",
      "/home/surbhi/anaconda3/lib/python3.7/site-packages/ipykernel_launcher.py:9: DeprecationWarning: elementwise comparison failed; this will raise an error in the future.\n",
      "  if __name__ == '__main__':\n",
      "/home/surbhi/anaconda3/lib/python3.7/site-packages/ipykernel_launcher.py:9: DeprecationWarning: elementwise comparison failed; this will raise an error in the future.\n",
      "  if __name__ == '__main__':\n",
      "/home/surbhi/anaconda3/lib/python3.7/site-packages/ipykernel_launcher.py:9: DeprecationWarning: elementwise comparison failed; this will raise an error in the future.\n",
      "  if __name__ == '__main__':\n",
      "/home/surbhi/anaconda3/lib/python3.7/site-packages/ipykernel_launcher.py:9: DeprecationWarning: elementwise comparison failed; this will raise an error in the future.\n",
      "  if __name__ == '__main__':\n",
      "/home/surbhi/anaconda3/lib/python3.7/site-packages/ipykernel_launcher.py:9: DeprecationWarning: elementwise comparison failed; this will raise an error in the future.\n",
      "  if __name__ == '__main__':\n",
      "/home/surbhi/anaconda3/lib/python3.7/site-packages/ipykernel_launcher.py:9: DeprecationWarning: elementwise comparison failed; this will raise an error in the future.\n",
      "  if __name__ == '__main__':\n",
      "/home/surbhi/anaconda3/lib/python3.7/site-packages/ipykernel_launcher.py:9: DeprecationWarning: elementwise comparison failed; this will raise an error in the future.\n",
      "  if __name__ == '__main__':\n",
      "/home/surbhi/anaconda3/lib/python3.7/site-packages/ipykernel_launcher.py:9: DeprecationWarning: elementwise comparison failed; this will raise an error in the future.\n",
      "  if __name__ == '__main__':\n",
      "/home/surbhi/anaconda3/lib/python3.7/site-packages/ipykernel_launcher.py:9: DeprecationWarning: elementwise comparison failed; this will raise an error in the future.\n",
      "  if __name__ == '__main__':\n",
      "/home/surbhi/anaconda3/lib/python3.7/site-packages/ipykernel_launcher.py:9: DeprecationWarning: elementwise comparison failed; this will raise an error in the future.\n",
      "  if __name__ == '__main__':\n",
      "/home/surbhi/anaconda3/lib/python3.7/site-packages/ipykernel_launcher.py:9: DeprecationWarning: elementwise comparison failed; this will raise an error in the future.\n",
      "  if __name__ == '__main__':\n"
     ]
    }
   ],
   "source": [
    "error_rate = []\n",
    "\n",
    "# Will take some time\n",
    "for i in range(1,25):\n",
    "    \n",
    "    knn = KNeighborsClassifier(n_neighbors=i)\n",
    "    knn.fit(X_train_df,Y_train)\n",
    "    pred_i = knn.predict(X_test_df)\n",
    "    error_rate.append(np.mean(pred_i != Test))"
   ]
  },
  {
   "cell_type": "code",
   "execution_count": 449,
   "metadata": {},
   "outputs": [
    {
     "data": {
      "text/plain": [
       "[1.0,\n",
       " 1.0,\n",
       " 1.0,\n",
       " 1.0,\n",
       " 1.0,\n",
       " 1.0,\n",
       " 1.0,\n",
       " 1.0,\n",
       " 1.0,\n",
       " 1.0,\n",
       " 1.0,\n",
       " 1.0,\n",
       " 1.0,\n",
       " 1.0,\n",
       " 1.0,\n",
       " 1.0,\n",
       " 1.0,\n",
       " 1.0,\n",
       " 1.0,\n",
       " 1.0,\n",
       " 1.0,\n",
       " 1.0,\n",
       " 1.0,\n",
       " 1.0]"
      ]
     },
     "execution_count": 449,
     "metadata": {},
     "output_type": "execute_result"
    }
   ],
   "source": [
    "error_rate"
   ]
  },
  {
   "cell_type": "code",
   "execution_count": 450,
   "metadata": {},
   "outputs": [
    {
     "data": {
      "text/plain": [
       "Text(0, 0.5, 'Error Rate')"
      ]
     },
     "execution_count": 450,
     "metadata": {},
     "output_type": "execute_result"
    },
    {
     "data": {
      "image/png": "[encoded data removed]",
      "text/plain": [
       "<Figure size 720x432 with 1 Axes>"
      ]
     },
     "metadata": {
      "needs_background": "light"
     },
     "output_type": "display_data"
    }
   ],
   "source": [
    "plt.figure(figsize=(10,6))\n",
    "plt.plot(range(1,25),error_rate,color='blue', linestyle='dashed', marker='o',\n",
    "         markerfacecolor='red', markersize=10)\n",
    "plt.title('Error Rate vs. K Value')\n",
    "plt.xlabel('K')\n",
    "plt.ylabel('Error Rate')"
   ]
  },
  {
   "cell_type": "code",
   "execution_count": null,
   "metadata": {},
   "outputs": [],
   "source": []
  },
  {
   "cell_type": "code",
   "execution_count": null,
   "metadata": {},
   "outputs": [],
   "source": []
  }
 ],
 "metadata": {
  "kernelspec": {
   "display_name": "Python 3",
   "language": "python",
   "name": "python3"
  },
  "language_info": {
   "codemirror_mode": {
    "name": "ipython",
    "version": 3
   },
   "file_extension": ".py",
   "mimetype": "text/x-python",
   "name": "python",
   "nbconvert_exporter": "python",
   "pygments_lexer": "ipython3",
   "version": "3.7.7"
  }
 },
 "nbformat": 4,
 "nbformat_minor": 4
}
